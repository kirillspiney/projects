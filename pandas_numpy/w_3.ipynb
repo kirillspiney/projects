{
  "nbformat": 4,
  "nbformat_minor": 0,
  "metadata": {
    "colab": {
      "provenance": [],
      "authorship_tag": "ABX9TyO937fTVD+gsS0Wtr0WNZBY",
      "include_colab_link": true
    },
    "kernelspec": {
      "name": "python3",
      "display_name": "Python 3"
    },
    "language_info": {
      "name": "python"
    }
  },
  "cells": [
    {
      "cell_type": "markdown",
      "metadata": {
        "id": "view-in-github",
        "colab_type": "text"
      },
      "source": [
        "<a href=\"https://colab.research.google.com/github/kirillspiney/projects/blob/main/pandas_numpy/w_3.ipynb\" target=\"_parent\"><img src=\"https://colab.research.google.com/assets/colab-badge.svg\" alt=\"Open In Colab\"/></a>"
      ]
    },
    {
      "cell_type": "markdown",
      "source": [
        "Задание 1\n",
        "Напишите функцию, которая классифицирует фильмы из материалов занятия по правилам:\n",
        "\n",
        "оценка 2 и ниже — низкий рейтинг;\n",
        "оценка 4 и ниже — средний рейтинг;\n",
        "оценка 4.5 и 5 — высокий рейтинг.\n",
        "Результат классификации запишите в столбец class."
      ],
      "metadata": {
        "id": "XakhgWmuHGdo"
      }
    },
    {
      "cell_type": "code",
      "source": [
        "import pandas as pd\n",
        "import numpy as np\n",
        "\n",
        "data = pd.read_csv('/content/ratings.csv')\n",
        "\n",
        "def classify_movies(df):\n",
        "    conditions = [\n",
        "        df['rating'] <= 2,\n",
        "        df['rating'] <= 4,\n",
        "        df['rating'] >= 4.5\n",
        "    ]\n",
        "    choices = ['low', 'medium', 'high']\n",
        "    df = df.assign(rating_class=np.select(conditions, choices))\n",
        "    return df\n",
        "\n",
        "df = pd.DataFrame(data)\n",
        "\n",
        "df = classify_movies(df)\n",
        "\n",
        "print(df)"
      ],
      "metadata": {
        "colab": {
          "base_uri": "https://localhost:8080/"
        },
        "id": "i3jiQOARHbpR",
        "outputId": "a14ced65-972b-4074-92b6-1e9b30af20fe"
      },
      "execution_count": null,
      "outputs": [
        {
          "output_type": "stream",
          "name": "stdout",
          "text": [
            "        userId  movieId  rating   timestamp rating_class\n",
            "0            1       31     2.5  1260759144       medium\n",
            "1            1     1029     3.0  1260759179       medium\n",
            "2            1     1061     3.0  1260759182       medium\n",
            "3            1     1129     2.0  1260759185          low\n",
            "4            1     1172     4.0  1260759205       medium\n",
            "...        ...      ...     ...         ...          ...\n",
            "99999      671     6268     2.5  1065579370       medium\n",
            "100000     671     6269     4.0  1065149201       medium\n",
            "100001     671     6365     4.0  1070940363       medium\n",
            "100002     671     6385     2.5  1070979663       medium\n",
            "100003     671     6565     3.5  1074784724       medium\n",
            "\n",
            "[100004 rows x 5 columns]\n"
          ]
        }
      ]
    },
    {
      "cell_type": "code",
      "source": [
        "#с функцией apply\n",
        "import pandas as pd\n",
        "\n",
        "data = pd.read_csv('/content/ratings.csv')\n",
        "\n",
        "def classify_movies(row):\n",
        "    rating = row['rating']\n",
        "    if rating <= 2:\n",
        "        return 'low'\n",
        "    elif rating <= 4:\n",
        "        return 'medium'\n",
        "    else:\n",
        "        return 'high'\n",
        "\n",
        "df = pd.DataFrame(data)\n",
        "\n",
        "df['rating_class'] = df.apply(classify_movies, axis=1)\n",
        "\n",
        "print(df)"
      ],
      "metadata": {
        "colab": {
          "base_uri": "https://localhost:8080/"
        },
        "id": "dnt3VNT2LIr5",
        "outputId": "8847f218-7249-41b6-b193-7aa48d593b89"
      },
      "execution_count": null,
      "outputs": [
        {
          "output_type": "stream",
          "name": "stdout",
          "text": [
            "        userId  movieId  rating   timestamp rating_class\n",
            "0            1       31     2.5  1260759144       medium\n",
            "1            1     1029     3.0  1260759179       medium\n",
            "2            1     1061     3.0  1260759182       medium\n",
            "3            1     1129     2.0  1260759185          low\n",
            "4            1     1172     4.0  1260759205       medium\n",
            "...        ...      ...     ...         ...          ...\n",
            "99999      671     6268     2.5  1065579370       medium\n",
            "100000     671     6269     4.0  1065149201       medium\n",
            "100001     671     6365     4.0  1070940363       medium\n",
            "100002     671     6385     2.5  1070979663       medium\n",
            "100003     671     6565     3.5  1074784724       medium\n",
            "\n",
            "[100004 rows x 5 columns]\n"
          ]
        }
      ]
    },
    {
      "cell_type": "markdown",
      "source": [
        "Используйте файл keywords.csv.\n",
        "\n",
        "Нужно написать гео-классификатор, который каждой строке сможет выставить географическую принадлежность определённому региону. Т. е. если поисковый запрос содержит название города региона, то в столбце ‘region’ пишется название этого региона. Если поисковый запрос не содержит названия города, то ставим ‘undefined’.\n",
        "\n",
        "Правила распределения по регионам Центр, Северо-Запад и Дальний Восток:\n",
        "\n",
        "geo_data = {\n",
        "\n",
        "1\n",
        "2\n",
        "3\n",
        "4\n",
        "5\n",
        "'Центр': ['москва', 'тула', 'ярославль'],\n",
        "\n",
        "'Северо-Запад': ['петербург', 'псков', 'мурманск'],\n",
        "\n",
        "'Дальний Восток': ['владивосток', 'сахалин', 'хабаровск']\n",
        "}\n",
        "\n",
        "Результат классификации запишите в отдельный столбец region."
      ],
      "metadata": {
        "id": "mcDFVpvwL9ur"
      }
    },
    {
      "cell_type": "code",
      "source": [
        "import pandas as pd\n",
        "\n",
        "df = pd.read_csv('/content/keywords.csv')\n",
        "\n",
        "def classify_region(keyword, geo_data):\n",
        "    for region, cities in geo_data.items():\n",
        "        for city in cities:\n",
        "            if city in keyword:\n",
        "                return region\n",
        "    return 'undefined'\n",
        "\n",
        "geo_data = {\n",
        "    'Центр': ['москва', 'тула', 'ярославль'],\n",
        "    'Северо-Запад': ['петербург', 'псков', 'мурманск'],\n",
        "    'Дальний Восток': ['владивосток', 'сахалин', 'хабаровск']\n",
        "}\n",
        "\n",
        "df['region'] = df['keyword'].apply(lambda x: classify_region(x, geo_data))\n",
        "\n",
        "print(classify_region('москва и время', geo_data))"
      ],
      "metadata": {
        "colab": {
          "base_uri": "https://localhost:8080/"
        },
        "id": "Wc9921ezMIVB",
        "outputId": "a412db19-5117-4155-9a67-eda4c6cca5bd"
      },
      "execution_count": null,
      "outputs": [
        {
          "output_type": "stream",
          "name": "stdout",
          "text": [
            "Центр\n"
          ]
        }
      ]
    }
  ]
}