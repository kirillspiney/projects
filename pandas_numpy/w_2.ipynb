{
  "nbformat": 4,
  "nbformat_minor": 0,
  "metadata": {
    "colab": {
      "provenance": [],
      "authorship_tag": "ABX9TyPjbE/Gw0kPD7tr6rZAK2vf",
      "include_colab_link": true
    },
    "kernelspec": {
      "name": "python3",
      "display_name": "Python 3"
    },
    "language_info": {
      "name": "python"
    }
  },
  "cells": [
    {
      "cell_type": "markdown",
      "metadata": {
        "id": "view-in-github",
        "colab_type": "text"
      },
      "source": [
        "<a href=\"https://colab.research.google.com/github/kirillspiney/projects/blob/main/pandas_numpy/w_2.ipynb\" target=\"_parent\"><img src=\"https://colab.research.google.com/assets/colab-badge.svg\" alt=\"Open In Colab\"/></a>"
      ]
    },
    {
      "cell_type": "markdown",
      "source": [
        "1. Скачайте с сайта датасет любого размера. Определите, какому фильму было выставлено больше всего оценок 5.0.\n",
        "\n"
      ],
      "metadata": {
        "id": "_YCnW4gXutrB"
      }
    },
    {
      "cell_type": "code",
      "source": [
        "import pandas as pd\n",
        "\n",
        "df = pd.read_csv('/content/ratings.csv')\n",
        "\n",
        "counts = df[df['rating'] == 5.0].groupby('movieId')['rating'].count()\n",
        "\n",
        "movie_with_most_5s = counts.sort_values(ascending=False).index[0]\n",
        "\n",
        "print(\"Фильм с наибольшим количеством оценок 5.0:\", movie_with_most_5s)"
      ],
      "metadata": {
        "colab": {
          "base_uri": "https://localhost:8080/"
        },
        "id": "vKb2nW2Fuuo_",
        "outputId": "c4b57aef-2d46-459c-cf93-16326301dbca"
      },
      "execution_count": null,
      "outputs": [
        {
          "output_type": "stream",
          "name": "stdout",
          "text": [
            "Фильм с наибольшим количеством оценок 5.0: 318.0\n"
          ]
        }
      ]
    },
    {
      "cell_type": "markdown",
      "source": [
        "2. По данным файла power.csv посчитайте суммарное потребление стран Прибалтики (Латвия, Литва и Эстония) категорий 4, 12 и 21 за период с 2005 по 2010 год. Не учитывайте в расчётах отрицательные значения quantity."
      ],
      "metadata": {
        "id": "6o_gIsH6zu6-"
      }
    },
    {
      "cell_type": "code",
      "source": [
        "import pandas as pd\n",
        "\n",
        "df = pd.read_csv('/content/power.csv')\n",
        "\n",
        "baltic_countries = ['Latvia', 'Lithuania', 'Estonia']\n",
        "\n",
        "baltic_consumption = df.query('country in @baltic_countries and category in [4, 12, 21] and year >= 2005 and year <= 2010 and quantity >= 0')\n",
        "\n",
        "total_consumption = baltic_consumption['quantity'].sum()\n",
        "\n",
        "print(f\"Суммарное потребление стран Прибалтики в категориях 4, 12 и 21 за период с 2005 по 2010 год: {total_consumption}\")"
      ],
      "metadata": {
        "colab": {
          "base_uri": "https://localhost:8080/"
        },
        "id": "6geXoV5Tz2I7",
        "outputId": "824cd965-c303-4bae-c7f6-3c3a046a3103"
      },
      "execution_count": null,
      "outputs": [
        {
          "output_type": "stream",
          "name": "stdout",
          "text": [
            "Суммарное потребление стран Прибалтики в категориях 4, 12 и 21 за период с 2005 по 2010 год: 240580.0\n"
          ]
        }
      ]
    },
    {
      "cell_type": "markdown",
      "source": [
        "3. Выберите страницу любого сайта с табличными данными. Импортируйте таблицы в pandas DataFrame. Вы можете взять любые страницы."
      ],
      "metadata": {
        "id": "GtGp3hVm15Kq"
      }
    },
    {
      "cell_type": "code",
      "source": [
        "import pandas as pd\n",
        "\n",
        "url = 'https://fortrader.org/quotes'\n",
        "\n",
        "tables = pd.read_html(url)\n",
        "\n",
        "print(tables[0])"
      ],
      "metadata": {
        "colab": {
          "base_uri": "https://localhost:8080/"
        },
        "id": "fy8inuPY19TP",
        "outputId": "b54b16a9-0bac-4c7a-c19d-ff600106e694"
      },
      "execution_count": null,
      "outputs": [
        {
          "output_type": "stream",
          "name": "stdout",
          "text": [
            "                           Название   Цена  Изменение  Изменение(%)  Обновлено\n",
            "0  EURRUB Курс евро к рублю сегодня  88.78       0.03          0.03        NaN\n",
            "1       USDRUB Курс рубля к доллару  80.83      -0.08         -0.10        NaN\n"
          ]
        }
      ]
    }
  ]
}