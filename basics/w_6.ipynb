{
  "nbformat": 4,
  "nbformat_minor": 0,
  "metadata": {
    "colab": {
      "provenance": [],
      "authorship_tag": "ABX9TyNgRvq6bD7HcDSCdhZAiFhF",
      "include_colab_link": true
    },
    "kernelspec": {
      "name": "python3",
      "display_name": "Python 3"
    },
    "language_info": {
      "name": "python"
    }
  },
  "cells": [
    {
      "cell_type": "markdown",
      "metadata": {
        "id": "view-in-github",
        "colab_type": "text"
      },
      "source": [
        "<a href=\"https://colab.research.google.com/github/kirillspiney/projects/blob/main/basics/w_6.ipynb\" target=\"_parent\"><img src=\"https://colab.research.google.com/assets/colab-badge.svg\" alt=\"Open In Colab\"/></a>"
      ]
    },
    {
      "cell_type": "markdown",
      "source": [
        "Задание 1\n",
        "Напишите функцию, которая возвращает название валюты (поле ‘Name’) с максимальным значением курса с помощью сервиса www.cbr-xml-daily.ru...ly_json.js"
      ],
      "metadata": {
        "id": "e_I-5H_ld-kM"
      }
    },
    {
      "cell_type": "code",
      "source": [
        "import requests\n",
        "\n",
        "def get_max_currency():\n",
        "    response = requests.get('https://www.cbr-xml-daily.ru/daily_json.js')\n",
        "    data = response.json()\n",
        "    \n",
        "    max_currency = None\n",
        "    max_rate = 0\n",
        "    \n",
        "    for currency, info in data['Valute'].items():\n",
        "        rate = info['Value']\n",
        "        if rate > max_rate:\n",
        "            max_rate = rate\n",
        "            max_currency = info['Name']\n",
        "    \n",
        "    return max_currency"
      ],
      "metadata": {
        "id": "iVywbbnYd_3e"
      },
      "execution_count": null,
      "outputs": []
    },
    {
      "cell_type": "code",
      "source": [
        "max_currency = get_max_currency()\n",
        "print(max_currency)"
      ],
      "metadata": {
        "colab": {
          "base_uri": "https://localhost:8080/"
        },
        "id": "Wa_JF0heeFpC",
        "outputId": "38b1ac35-8ecc-4392-df4b-5e0bfe4718a5"
      },
      "execution_count": null,
      "outputs": [
        {
          "output_type": "stream",
          "name": "stdout",
          "text": [
            "СДР (специальные права заимствования)\n"
          ]
        }
      ]
    },
    {
      "cell_type": "markdown",
      "source": [
        "Задание 2\n",
        "Добавьте в класс Rate параметр diff (со значениями True или False), который в случае значения True в методах курсов валют (eur, usd итд) будет возвращать не курс валюты, а изменение по сравнению в прошлым значением. Считайте, self.diff будет принимать значение True только при возврате значения курса. При отображении всей информации о валюте он не используется."
      ],
      "metadata": {
        "id": "xce_VWTzeejG"
      }
    },
    {
      "cell_type": "code",
      "source": [
        "import requests\n",
        "\n",
        "class Rate:\n",
        "    def __init__(self, format_='value', diff=False):\n",
        "        self.format = format_\n",
        "        self.diff = diff\n",
        "    \n",
        "    def exchange_rates(self):\n",
        "        self.r = requests.get('https://www.cbr-xml-daily.ru/daily_json.js')\n",
        "        return self.r.json()['Valute']\n",
        "    \n",
        "    def make_format(self, currency):\n",
        "       \n",
        "        response = self.exchange_rates()\n",
        "        \n",
        "        if currency in response:\n",
        "            if self.format == 'full':\n",
        "                return response[currency]\n",
        "            \n",
        "            if self.format == 'value':\n",
        "                if self.diff:\n",
        "                    return response[currency]['Value'] - response[currency]['Previous']\n",
        "                else:\n",
        "                    return response[currency]['Value']\n",
        "        \n",
        "        return 'Error'\n",
        "    \n",
        "    def eur(self):\n",
        "        return self.make_format('EUR')\n",
        "    \n",
        "    def usd(self):\n",
        "        return self.make_format('USD')\n",
        "    \n",
        "    def brl(self):\n",
        "        return self.make_format('BRL')"
      ],
      "metadata": {
        "id": "4pfKVhcnemSo"
      },
      "execution_count": null,
      "outputs": []
    },
    {
      "cell_type": "code",
      "source": [
        "r = Rate(diff=True)\n",
        "r.usd()"
      ],
      "metadata": {
        "colab": {
          "base_uri": "https://localhost:8080/"
        },
        "id": "qzFKP0bgenL6",
        "outputId": "990bddc9-f4fe-44e2-aeb7-350c930fa8ef"
      },
      "execution_count": null,
      "outputs": [
        {
          "output_type": "execute_result",
          "data": {
            "text/plain": [
              "-0.025099999999994793"
            ]
          },
          "metadata": {},
          "execution_count": 6
        }
      ]
    },
    {
      "cell_type": "code",
      "source": [
        "r1 = Rate(format_='full')\n",
        "r1.usd()"
      ],
      "metadata": {
        "colab": {
          "base_uri": "https://localhost:8080/"
        },
        "id": "sHc5U3CEfKiX",
        "outputId": "b867ff66-02bf-4bfb-c163-11ef5744a33b"
      },
      "execution_count": null,
      "outputs": [
        {
          "output_type": "execute_result",
          "data": {
            "text/plain": [
              "{'ID': 'R01235',\n",
              " 'NumCode': '840',\n",
              " 'CharCode': 'USD',\n",
              " 'Nominal': 1,\n",
              " 'Name': 'Доллар США',\n",
              " 'Value': 81.6028,\n",
              " 'Previous': 81.6279}"
            ]
          },
          "metadata": {},
          "execution_count": 7
        }
      ]
    },
    {
      "cell_type": "markdown",
      "source": [
        "Задание 3\n",
        "Напишите класс Designer, который учитывает количество международных премий. Подсказки в коде занятия в разделе “Домашнее задание задача 3”."
      ],
      "metadata": {
        "id": "lg2hcrl7ftsE"
      }
    },
    {
      "cell_type": "code",
      "source": [
        "class Employee:\n",
        "    def __init__(self, name, seniority):\n",
        "        self.name = name\n",
        "        self.seniority = seniority\n",
        "        \n",
        "        self.grade = 1\n",
        "    \n",
        "    def grade_up(self):\n",
        "        \"\"\"Повышает уровень сотрудника\"\"\"\n",
        "        self.grade += 1\n",
        "    \n",
        "    def publish_grade(self):\n",
        "        \"\"\"Публикация результатов аккредитации сотрудников\"\"\"\n",
        "        print(self.name, self.grade)\n",
        "    \n",
        "    def check_if_it_is_time_for_upgrade(self):\n",
        "        pass"
      ],
      "metadata": {
        "id": "6Cnijs8tf1sU"
      },
      "execution_count": null,
      "outputs": []
    },
    {
      "cell_type": "code",
      "source": [
        "class Designer(Employee):\n",
        "    def __init__(self, name, seniority, awards=2):\n",
        "        super().__init__(name, seniority)\n",
        "        self.awards = awards\n",
        "        self.bonus_points = awards * 2  # начальное количество баллов из-за премий\n",
        "    \n",
        "    def check_if_it_is_time_for_upgrade(self):\n",
        "        # увеличиваем счетчик баллов на 1\n",
        "        self.bonus_points += 1\n",
        "        \n",
        "        # дополнительные баллы за премии\n",
        "        if self.bonus_points % 7 == 0:\n",
        "            self.grade_up()\n",
        "        \n",
        "        # публикация результатов\n",
        "        return self.publish_grade()"
      ],
      "metadata": {
        "id": "qTgDx_yef7Jm"
      },
      "execution_count": null,
      "outputs": []
    },
    {
      "cell_type": "code",
      "source": [
        "marina = Designer('Марина', 0)"
      ],
      "metadata": {
        "id": "bJiosebygJQG"
      },
      "execution_count": null,
      "outputs": []
    },
    {
      "cell_type": "code",
      "source": [
        "for i in range(20):\n",
        "    marina.check_if_it_is_time_for_upgrade()"
      ],
      "metadata": {
        "colab": {
          "base_uri": "https://localhost:8080/"
        },
        "id": "btd964iMgWUy",
        "outputId": "87857def-e623-4be2-f74c-2c62a266dcfe"
      },
      "execution_count": null,
      "outputs": [
        {
          "output_type": "stream",
          "name": "stdout",
          "text": [
            "Марина 1\n",
            "Марина 1\n",
            "Марина 2\n",
            "Марина 2\n",
            "Марина 2\n",
            "Марина 2\n",
            "Марина 2\n",
            "Марина 2\n",
            "Марина 2\n",
            "Марина 3\n",
            "Марина 3\n",
            "Марина 3\n",
            "Марина 3\n",
            "Марина 3\n",
            "Марина 3\n",
            "Марина 3\n",
            "Марина 4\n",
            "Марина 4\n",
            "Марина 4\n",
            "Марина 4\n"
          ]
        }
      ]
    }
  ]
}