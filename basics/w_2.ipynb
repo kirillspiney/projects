{
  "nbformat": 4,
  "nbformat_minor": 0,
  "metadata": {
    "colab": {
      "provenance": [],
      "authorship_tag": "ABX9TyNNmoSxiiohOSJljGpZnpmD",
      "include_colab_link": true
    },
    "kernelspec": {
      "name": "python3",
      "display_name": "Python 3"
    },
    "language_info": {
      "name": "python"
    }
  },
  "cells": [
    {
      "cell_type": "markdown",
      "metadata": {
        "id": "view-in-github",
        "colab_type": "text"
      },
      "source": [
        "<a href=\"https://colab.research.google.com/github/kirillspiney/projects/blob/main/basics/w_2.ipynb\" target=\"_parent\"><img src=\"https://colab.research.google.com/assets/colab-badge.svg\" alt=\"Open In Colab\"/></a>"
      ]
    },
    {
      "cell_type": "markdown",
      "source": [
        "Дана переменная, в которой хранится слово из латинских букв. Напишите код, который выводит на экран:\n",
        "\n",
        "среднюю букву, если число букв в слове нечетное;\n",
        "две средних буквы, если число букв четное.\n",
        "Примеры работы программы:"
      ],
      "metadata": {
        "id": "vHssFnDIESZc"
      }
    },
    {
      "cell_type": "code",
      "source": [
        "word = input()\n",
        "if len(word) % 2 != 0:\n",
        "  print(word[int(len(word) / 2)])\n",
        "else:\n",
        "  print(word[int(len(word) / 2 - 1)] + word[int(len(word) / 2)])"
      ],
      "metadata": {
        "id": "jxDxq0c_H0VO",
        "colab": {
          "base_uri": "https://localhost:8080/"
        },
        "outputId": "166071d6-420d-4434-c990-dfa95044f0ce"
      },
      "execution_count": null,
      "outputs": [
        {
          "output_type": "stream",
          "name": "stdout",
          "text": [
            "Погода\n",
            "го\n"
          ]
        }
      ]
    },
    {
      "cell_type": "markdown",
      "source": [
        "Напишите программу, которая последовательно запрашивает у пользователя числа (по одному за раз) и после первого нуля выводит сумму всех ранее введенных чисел."
      ],
      "metadata": {
        "id": "_xGjCuTPLvPn"
      }
    },
    {
      "cell_type": "code",
      "source": [
        "a = int(input(\"Введите число: \"))\n",
        "sum = 0\n",
        "while a != 0:\n",
        "    sum += a\n",
        "    a = int(input(\"Введите число: \"))\n",
        "print(\"Результат:\", sum)"
      ],
      "metadata": {
        "id": "984sODcbNZLy"
      },
      "execution_count": null,
      "outputs": []
    },
    {
      "cell_type": "markdown",
      "source": [
        "Мы делаем MVP dating-сервиса, и у нас есть список парней и девушек.\n",
        "Выдвигаем гипотезу: лучшие рекомендации мы получим, если просто отсортируем имена по алфавиту и познакомим людей с одинаковыми индексами после сортировки! Но мы не будем никого знакомить, если кто-то может остаться без пары:"
      ],
      "metadata": {
        "id": "p-B5DLdKOr88"
      }
    },
    {
      "cell_type": "code",
      "source": [
        "boys = ['Peter', 'Alex', 'John', 'Arthur', 'Richard']\n",
        "girls = ['Kate', 'Liza', 'Kira', 'Emma', 'Trisha']\n",
        "if len(boys) == len(girls):\n",
        "  dates = zip(sorted(boys), sorted(girls))\n",
        "  couples = dict(dates)\n",
        "  print(\"Результат: \")\n",
        "  print(\"Идеальные пары: \")\n",
        "  for boy, girl in couples.items():\n",
        "        print(f\"{boy} и {girl}\")\n",
        "else:\n",
        "  print(\"Результат: \")\n",
        "  print(\"Внимание, кто-то может остаться без пары!\")"
      ],
      "metadata": {
        "id": "o0YMQRYrOsq7"
      },
      "execution_count": null,
      "outputs": []
    },
    {
      "cell_type": "markdown",
      "source": [
        "У нас есть список, содержащий информацию о среднедневной температуре в Фаренгейтах за произвольный период по странам (структура данных в примере). Необходимо написать код, который рассчитает среднюю температуру за период в Цельсиях(!) для каждой страны."
      ],
      "metadata": {
        "id": "5fpOykDJXHA1"
      }
    },
    {
      "cell_type": "code",
      "source": [
        "countries_temperature = [\n",
        "    ['Thailand', [75.2, 77, 78.8, 73.4, 68, 75.2, 77]],\n",
        "    ['Germany', [57.2, 55.4, 59, 59, 53.6]],\n",
        "    ['Russia', [35.6, 37.4, 39.2, 41, 42.8, 39.2, 35.6]],\n",
        "    ['Poland', [50, 50, 53.6, 57.2, 55.4, 55.4]]]\n",
        "for average in countries_temperature:\n",
        "    print(average[0], '-', round((sum(average[1]) / len(average[1]) - 32) / 1.8, 1), 'C')"
      ],
      "metadata": {
        "id": "AVVbMD_BXI_0",
        "colab": {
          "base_uri": "https://localhost:8080/"
        },
        "outputId": "54e5417a-d8ac-43f9-9808-e04af5422d6d"
      },
      "execution_count": null,
      "outputs": [
        {
          "output_type": "stream",
          "name": "stdout",
          "text": [
            "Thailand - 23.9 C\n",
            "Germany - 13.8 C\n",
            "Russia - 3.7 C\n",
            "Poland - 12.0 C\n"
          ]
        }
      ]
    },
    {
      "cell_type": "markdown",
      "source": [
        "Дан поток логов по количеству просмотренных страниц для каждого пользователя. Вам необходимо написать алгоритм, который считает среднее значение просмотров на пользователя. Т. е. надо посчитать отношение суммы всех просмотров к количеству уникальных пользователей.\n",
        "\n",
        "Примеры работы программы:\n",
        "\n",
        "stream = [\n",
        "‘2018-01-01,user1,3’,\n",
        "‘2018-01-07,user1,4’,\n",
        "‘2018-03-29,user1,1’,\n",
        "‘2018-04-04,user1,13’,\n",
        "‘2018-01-05,user2,7’,\n",
        "‘2018-06-14,user3,4’,\n",
        "‘2018-07-02,user3,10’,\n",
        "‘2018-03-21,user4,19’,\n",
        "‘2018-03-22,user4,4’,\n",
        "‘2018-04-22,user4,8’,\n",
        "‘2018-05-03,user4,9’,\n",
        "‘2018-05-11,user4,11’,\n",
        "]\n",
        "Результат:\n",
        "Среднее количество просмотров на уникального пользователя: 23.25\n",
        "\n",
        "stream = [\n",
        "‘2018-01-01,user100,150’,\n",
        "‘2018-01-07,user99,205’,\n",
        "‘2018-03-29,user1001,81’\n",
        "]\n",
        "Результат:\n",
        "Среднее количество просмотров на уникального пользователя: 145.33"
      ],
      "metadata": {
        "id": "7div-BChq9Ry"
      }
    },
    {
      "cell_type": "code",
      "source": [
        "stream = [\n",
        "'2018-01-01,user1,3',\n",
        "'2018-01-07,user1,4',\n",
        "'2018-03-29,user1,1',\n",
        "'2018-04-04,user1,13',\n",
        "'2018-01-05,user2,7',\n",
        "'2018-06-14,user3,4',\n",
        "'2018-07-02,user3,10',\n",
        "'2018-03-21,user4,19',\n",
        "'2018-03-22,user4,4',\n",
        "'2018-04-22,user4,8',\n",
        "'2018-05-03,user4,9',\n",
        "'2018-05-11,user4,11',\n",
        "]\n",
        "users = []\n",
        "views = 0\n",
        "for avrg in stream:\n",
        "    a = avrg.split(',')\n",
        "    views += int(a[2])\n",
        "    if a[1] not in users:\n",
        "        users.append(a[1])\n",
        "print('Cреднее количество просмотров на уникального пользователя:', round(views/len(users), 2))"
      ],
      "metadata": {
        "id": "ra9o6VOyrJEU",
        "colab": {
          "base_uri": "https://localhost:8080/"
        },
        "outputId": "3d575282-acfd-456f-ac16-aeec27431496"
      },
      "execution_count": null,
      "outputs": [
        {
          "output_type": "stream",
          "name": "stdout",
          "text": [
            "Cреднее количество просмотров на уникального пользователя: 23.25\n"
          ]
        }
      ]
    }
  ]
}