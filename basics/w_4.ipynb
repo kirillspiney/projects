{
  "nbformat": 4,
  "nbformat_minor": 0,
  "metadata": {
    "colab": {
      "provenance": [],
      "authorship_tag": "ABX9TyNgE+x3S1rgvciRiPELQKMT",
      "include_colab_link": true
    },
    "kernelspec": {
      "name": "python3",
      "display_name": "Python 3"
    },
    "language_info": {
      "name": "python"
    }
  },
  "cells": [
    {
      "cell_type": "markdown",
      "metadata": {
        "id": "view-in-github",
        "colab_type": "text"
      },
      "source": [
        "<a href=\"https://colab.research.google.com/github/kirillspiney/projects/blob/main/basics/w_4.ipynb\" target=\"_parent\"><img src=\"https://colab.research.google.com/assets/colab-badge.svg\" alt=\"Open In Colab\"/></a>"
      ]
    },
    {
      "cell_type": "markdown",
      "source": [
        "Вам нужно помочь секретарю автоматизировать работу. Для этого нужно написать программу, которая будет на основе хранимых данных исполнять пользовательские команды.\n",
        "\n",
        "Исходные данные имеют следующую структуру:\n",
        "\n",
        "Перечень всех документов.\n",
        "documents = [\n",
        "{‘type’: ‘passport’, ‘number’: ‘2207 876234’, ‘name’: ‘Василий Гупкин’},\n",
        "{‘type’: ‘invoice’, ‘number’: ‘11-2’, ‘name’: ‘Геннадий Покемонов’},\n",
        "{‘type’: ‘insurance’, ‘number’: ‘10006’, ‘name’: ‘Аристарх Павлов’}\n",
        "]\n",
        "Перечень полок, на которых хранятся документы. Если документ есть в documents, то он обязательно должен быть и в directories.\n",
        "directories = {\n",
        "‘1’: [‘2207 876234’, ‘11-2’],\n",
        "‘2’: [‘10006’],\n",
        "‘3’: []\n",
        "}\n",
        "Общие требования к программе:\n",
        "код должен быть грамотно декомпозирован: каждая функция отвечает за свою конкретную задачу, дублирующийся функционал переиспользуется, а его код не повторяется;\n",
        "в коде отсутствуют глобальные переменные, за исключением documents и directories;\n",
        "пользовательский ввод обрабатывается в цикле while до тех пор, пока пользователь явно не завершит программу вводом команды «q».\n",
        "**Задание 1\n",
        "Пункт 1. Пользователь по команде «p» может узнать владельца документа по его номеру.\n",
        "Примеры работы:\n",
        "\n",
        "Введите команду:\n",
        "p\n",
        "\n",
        "Введите номер документа:\n",
        "10006\n",
        "Результат:\n",
        "Владелец документа: Аристарх Павлов\n",
        "\n",
        "Введите команду:\n",
        "p\n",
        "\n",
        "Введите номер документа:\n",
        "12345\n",
        "Результат:\n",
        "Документ не найден в базе"
      ],
      "metadata": {
        "id": "1j-ZAmhqzKpd"
      }
    },
    {
      "cell_type": "code",
      "source": [
        "documents = [\n",
        "{'type': 'passport', 'number': '2207 876234', 'name': 'Василий Гупкин'},\n",
        "{'type': 'invoice', 'number': '11-2', 'name': 'Геннадий Покемонов'},\n",
        "{'type': 'insurance', 'number': '10006', 'name': 'Аристарх Павлов'}\n",
        "]\n",
        "\n",
        "directories = {\n",
        "'1': ['2207 876234', '11-2'],\n",
        "'2': ['10006'],\n",
        "'3': []\n",
        "}\n",
        "\n",
        "def owner_by_document_number(documents, doc_number):\n",
        "    for doc in documents:\n",
        "        if doc['number'] == doc_number:\n",
        "            return doc['name']\n",
        "    return 'Документ не найден'\n",
        "\n",
        "def shelf_by_document_number(directories, doc_number):\n",
        "    for shelf, docs in directories.items():\n",
        "        if doc_number in docs:\n",
        "            return shelf\n",
        "    return 'Документ не найден на полках'\n",
        "\n",
        "def list_documents(documents, directories):\n",
        "    for doc in documents:\n",
        "        shelf = shelf_by_document_number(directories, doc['number'])\n",
        "        print(f\"№: {doc['number']}, тип: {doc['type']}, владелец: {doc['name']}, полка хранения: {shelf}\")\n",
        "\n",
        "def add_shelf(directories, shelf_number):\n",
        "    if shelf_number in directories:\n",
        "        return f'Такая полка уже существует, текущий перечень полок {\", \".join(directories.keys())}'\n",
        "    directories[shelf_number] = []\n",
        "    return f'Полка добавлена, текущий перечень полок {\", \".join(directories.keys())}'\n",
        "\n",
        "def delete_shelf(directories, shelf_number):\n",
        "    if shelf_number not in directories:\n",
        "        return f'Такой полки не существует, текущий перечень полок {\", \".join(directories.keys())}'\n",
        "    if directories[shelf_number]:\n",
        "        return f'На полке есть документы, удалите их перед удалением полки. Текущий перечень полок {\", \".join(directories.keys())}'\n",
        "    del directories[shelf_number]\n",
        "    return f'Полка удалена, текущий перечень полок {\", \".join(directories.keys())}'\n",
        "\n",
        "while True:\n",
        "    command = input('Введите команду: ')\n",
        "    if command == 'p':\n",
        "        doc_number = input('Введите номер документа: ')\n",
        "        owner_name = owner_by_document_number(documents, doc_number)\n",
        "        print(f' Владелец документа: {owner_name}')\n",
        "    if command == 's':\n",
        "        doc_number = input('Введите номер документа: ')\n",
        "        shelf = shelf_by_document_number(directories, doc_number)\n",
        "        print(f' Документ хранится на полке: {shelf}')\n",
        "    if command == 'l':\n",
        "        result = list_documents(documents, directories)\n",
        "    if command == 'ads':\n",
        "        shelf_number = input('Введите номер полки: ')\n",
        "        adding = add_shelf(directories, shelf_number)\n",
        "        print(adding)\n",
        "    if command == 'ds':\n",
        "        shelf_number = input('Введите номер полки: ')\n",
        "        deleting = delete_shelf(directories, shelf_number)\n",
        "        print(deleting)\n",
        "    elif command == 'q':\n",
        "        break\n"
      ],
      "metadata": {
        "colab": {
          "base_uri": "https://localhost:8080/"
        },
        "id": "0kFGK6ByzMG_",
        "outputId": "fb2b613d-0889-4fa9-a6a0-a551ababd235"
      },
      "execution_count": null,
      "outputs": [
        {
          "name": "stdout",
          "output_type": "stream",
          "text": [
            "Введите команду: q\n"
          ]
        }
      ]
    },
    {
      "cell_type": "code",
      "source": [],
      "metadata": {
        "id": "sYwCPQb7545J"
      },
      "execution_count": null,
      "outputs": []
    }
  ]
}