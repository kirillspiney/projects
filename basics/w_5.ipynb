{
  "nbformat": 4,
  "nbformat_minor": 0,
  "metadata": {
    "colab": {
      "provenance": [],
      "authorship_tag": "ABX9TyNaEu6Q/AbwYNv6GoSOBHO8",
      "include_colab_link": true
    },
    "kernelspec": {
      "name": "python3",
      "display_name": "Python 3"
    },
    "language_info": {
      "name": "python"
    }
  },
  "cells": [
    {
      "cell_type": "markdown",
      "metadata": {
        "id": "view-in-github",
        "colab_type": "text"
      },
      "source": [
        "<a href=\"https://colab.research.google.com/github/kirillspiney/projects/blob/main/basics/w_5.ipynb\" target=\"_parent\"><img src=\"https://colab.research.google.com/assets/colab-badge.svg\" alt=\"Open In Colab\"/></a>"
      ]
    },
    {
      "cell_type": "markdown",
      "source": [
        "Задание 1\n",
        "Печатные газеты использовали свой формат дат для каждого выпуска. Для каждой газеты из списка напишите формат указанной даты для перевода в объект datetime:\n",
        "The Moscow Times — Wednesday, October 2, 2002\n",
        "The Guardian — Friday, 11.10.13\n",
        "Daily News — Thursday, 18 August 1977"
      ],
      "metadata": {
        "id": "4lHvLrr0gPWE"
      }
    },
    {
      "cell_type": "code",
      "source": [
        "from datetime import datetime\n",
        "\n",
        "date_string = \"Wednesday, October 2, 2002\"\n",
        "date_format = \"%A, %B %d, %Y\"\n",
        "date_object = datetime.strptime(date_string, date_format)\n",
        "print(date_object)"
      ],
      "metadata": {
        "colab": {
          "base_uri": "https://localhost:8080/"
        },
        "id": "jM6C-JrjgQ_G",
        "outputId": "dfd01375-f939-4795-8824-37f0a5849e8d"
      },
      "execution_count": null,
      "outputs": [
        {
          "output_type": "stream",
          "name": "stdout",
          "text": [
            "2002-10-02 00:00:00\n"
          ]
        }
      ]
    },
    {
      "cell_type": "code",
      "source": [
        "from datetime import datetime\n",
        "\n",
        "date_string = \"Friday, 11.10.13\"\n",
        "date_format = \"%A, %d.%m.%y\"\n",
        "date_object = datetime.strptime(date_string, date_format)\n",
        "print(date_object)"
      ],
      "metadata": {
        "colab": {
          "base_uri": "https://localhost:8080/"
        },
        "id": "roLYShyFgioD",
        "outputId": "8ebaa242-126c-4ae0-b845-2ba344ab0db4"
      },
      "execution_count": null,
      "outputs": [
        {
          "output_type": "stream",
          "name": "stdout",
          "text": [
            "2013-10-11 00:00:00\n"
          ]
        }
      ]
    },
    {
      "cell_type": "code",
      "source": [
        "from datetime import datetime\n",
        "\n",
        "date_string = \"Thursday, 18 August 1977\"\n",
        "date_format = \"%A, %d %B %Y\"\n",
        "date_object = datetime.strptime(date_string, date_format)\n",
        "print(date_object)"
      ],
      "metadata": {
        "colab": {
          "base_uri": "https://localhost:8080/"
        },
        "id": "scwLt2bggkEu",
        "outputId": "d01d3098-3526-4466-c671-f211a09756fe"
      },
      "execution_count": null,
      "outputs": [
        {
          "output_type": "stream",
          "name": "stdout",
          "text": [
            "1977-08-18 00:00:00\n"
          ]
        }
      ]
    },
    {
      "cell_type": "markdown",
      "source": [
        "Задание 2\n",
        "Дан поток дат в формате YYYY-MM-DD, в которых встречаются некорректные значения:\n",
        "stream = [‘2018-04-02’, ‘2018-02-29’, ‘2018-19-02’]\n",
        "\n",
        "Напишите функцию, которая проверяет эти даты на корректность. То есть для каждой даты возвращает True — дата корректна или False — некорректная."
      ],
      "metadata": {
        "id": "NJ4vBiP9gs41"
      }
    },
    {
      "cell_type": "code",
      "source": [
        "from datetime import datetime\n",
        "\n",
        "def check_dates(dates):\n",
        "    results = []\n",
        "    for date in dates:\n",
        "        try:\n",
        "            datetime.strptime(date, '%Y-%m-%d')\n",
        "            results.append(True)\n",
        "        except ValueError:\n",
        "            results.append(False)\n",
        "    return results"
      ],
      "metadata": {
        "id": "dRZsr7xVg0FS"
      },
      "execution_count": null,
      "outputs": []
    },
    {
      "cell_type": "code",
      "source": [
        "stream = ['2018-04-02', '2018-02-29', '2018-19-02']\n",
        "results = check_dates(stream)\n",
        "print(results)"
      ],
      "metadata": {
        "colab": {
          "base_uri": "https://localhost:8080/"
        },
        "id": "IuMOzLm4g2BT",
        "outputId": "3298d070-a462-45a8-d6c4-4715f6ee9b43"
      },
      "execution_count": null,
      "outputs": [
        {
          "output_type": "stream",
          "name": "stdout",
          "text": [
            "[True, False, False]\n"
          ]
        }
      ]
    },
    {
      "cell_type": "markdown",
      "source": [
        "Задание 3\n",
        "Напишите функцию date_range, которая возвращает список дат за период от start_date до end_date. Даты должны вводиться в формате YYYY-MM-DD. В случае неверного формата или при start_date > end_date должен возвращаться пустой список."
      ],
      "metadata": {
        "id": "LC0foi8fhJQf"
      }
    },
    {
      "cell_type": "code",
      "source": [
        "from datetime import  \n",
        "def date_range(start_date, end_date):\n",
        "    try:\n",
        "        start = datetime.strptime(start_date, '%Y-%m-%d')\n",
        "        end = datetime.strptime(end_date, '%Y-%m-%d')\n",
        "    except ValueError:\n",
        "        return []\n",
        "    if start > end:\n",
        "        return []\n",
        "    date_list = []\n",
        "    while start <= end:\n",
        "        date_list.append(start.strftime('%Y-%m-%d'))\n",
        "        start += timedelta(days=1)\n",
        "    return date_list"
      ],
      "metadata": {
        "id": "FY9BbAMihKJ2"
      },
      "execution_count": null,
      "outputs": []
    },
    {
      "cell_type": "code",
      "source": [
        "start_date = '2022-01-01'\n",
        "end_date = '2022-01-05'\n",
        "date_list = date_range(start_date, end_date)\n",
        "print(date_list)"
      ],
      "metadata": {
        "colab": {
          "base_uri": "https://localhost:8080/"
        },
        "id": "4Qsflh3nhVjK",
        "outputId": "11f4b7f5-c3c6-49a7-fa80-9e31fda76467"
      },
      "execution_count": null,
      "outputs": [
        {
          "output_type": "stream",
          "name": "stdout",
          "text": [
            "['2022-01-01', '2022-01-02', '2022-01-03', '2022-01-04', '2022-01-05']\n"
          ]
        }
      ]
    },
    {
      "cell_type": "code",
      "source": [
        "start_date = '2022-01-05'\n",
        "end_date = '2022-01-01'\n",
        "date_list = date_range(start_date, end_date)\n",
        "print(date_list)"
      ],
      "metadata": {
        "colab": {
          "base_uri": "https://localhost:8080/"
        },
        "id": "7U20xgQzhXoz",
        "outputId": "4dc9d2a4-fed1-403c-90e1-109cc3f7f6b0"
      },
      "execution_count": null,
      "outputs": [
        {
          "output_type": "stream",
          "name": "stdout",
          "text": [
            "[]\n"
          ]
        }
      ]
    },
    {
      "cell_type": "code",
      "source": [
        "start_date = '2022-01-32'\n",
        "end_date = '2022-01-35'\n",
        "date_list = date_range(start_date, end_date)\n",
        "print(date_list)"
      ],
      "metadata": {
        "colab": {
          "base_uri": "https://localhost:8080/"
        },
        "id": "AuFKRb-zhbRp",
        "outputId": "147573c6-3e93-4630-c416-e813d61dde68"
      },
      "execution_count": null,
      "outputs": [
        {
          "output_type": "stream",
          "name": "stdout",
          "text": [
            "[]\n"
          ]
        }
      ]
    }
  ]
}