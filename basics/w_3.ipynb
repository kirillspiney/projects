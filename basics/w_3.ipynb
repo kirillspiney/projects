{
  "nbformat": 4,
  "nbformat_minor": 0,
  "metadata": {
    "colab": {
      "provenance": [],
      "authorship_tag": "ABX9TyMqKXkiR9pNS6jT0lSKzYht",
      "include_colab_link": true
    },
    "kernelspec": {
      "name": "python3",
      "display_name": "Python 3"
    },
    "language_info": {
      "name": "python"
    }
  },
  "cells": [
    {
      "cell_type": "markdown",
      "metadata": {
        "id": "view-in-github",
        "colab_type": "text"
      },
      "source": [
        "<a href=\"https://colab.research.google.com/github/kirillspiney/projects/blob/main/basics/w_3.ipynb\" target=\"_parent\"><img src=\"https://colab.research.google.com/assets/colab-badge.svg\" alt=\"Open In Colab\"/></a>"
      ]
    },
    {
      "cell_type": "markdown",
      "source": [
        "**Задание 1**\n",
        "Дана переменная, в которой хранится словарь, содержащий гео-метки для каждого пользователя (пример структуры данных приведен ниже). Вам необходимо написать программу, которая выведет на экран множество уникальных гео-меток всех пользователей.\n",
        "\n",
        "Пример работы программы:\n",
        "\n",
        "ids = {‘user1’: [213, 213, 213, 15, 213],\n",
        "‘user2’: [54, 54, 119, 119, 119],\n",
        "‘user3’: [213, 98, 98, 35]}\n",
        "Результат: {98, 35, 15, 213, 54, 119}"
      ],
      "metadata": {
        "id": "N03p6aEOedyD"
      }
    },
    {
      "cell_type": "code",
      "source": [
        "ids = {\n",
        "    'user1': [213, 213, 213, 15, 213],\n",
        "    'user2': [54, 54, 119, 119, 119],\n",
        "    'user3': [213, 98, 98, 35]\n",
        "    }\n",
        "geo = set()\n",
        "for geo_tag in ids.values():\n",
        "  geo = geo.union(set(geo_tag))\n",
        "print(geo)"
      ],
      "metadata": {
        "colab": {
          "base_uri": "https://localhost:8080/"
        },
        "id": "QJfANuxQenCd",
        "outputId": "19f96bb5-cad5-4cbe-b0a1-aaf45f409be6"
      },
      "execution_count": null,
      "outputs": [
        {
          "output_type": "stream",
          "name": "stdout",
          "text": [
            "{98, 35, 213, 54, 119, 15}\n"
          ]
        }
      ]
    },
    {
      "cell_type": "markdown",
      "source": [
        "**Задание 2**\n",
        "Дана переменная, в которой хранится список поисковых запросов пользователя (пример структуры данных приведен ниже). Вам необходимо написать программу, которая выведет на экран распределение количества слов в запросах в требуемом виде.\n",
        "\n",
        "Пример работы программы:\n",
        "\n",
        "queries = [\n",
        "‘смотреть сериалы онлайн’,\n",
        "‘новости спорта’,\n",
        "‘афиша кино’,\n",
        "‘курс доллара’,\n",
        "‘сериалы этим летом’,\n",
        "‘курс по питону’,\n",
        "‘сериалы про спорт’\n",
        "]\n",
        "Результат:\n",
        "\n",
        "Поисковых запросов, содержащих 2 слов(а): 42.86%\n",
        "Поисковых запросов, содержащих 3 слов(а): 57.14%"
      ],
      "metadata": {
        "id": "IVISNRZykm0W"
      }
    },
    {
      "cell_type": "code",
      "source": [
        "queries = [\n",
        "'смотреть сериалы онлайн',\n",
        "'новости спорта',\n",
        "'афиша кино',\n",
        "'курс доллара',\n",
        "'сериалы этим летом',\n",
        "'курс по питону',\n",
        "'сериалы про спорт'\n",
        "]\n",
        "storage = {}\n",
        "for query in queries:\n",
        "    words = query.split()\n",
        "    if len(words) in storage.keys():\n",
        "        storage[len(words)] += 1\n",
        "    else:\n",
        "        storage.update({\n",
        "            len(words): 1\n",
        "        })\n",
        "for key, value in storage.items():\n",
        "    percentage = round((value / len(queries)) * 100, 2)\n",
        "    print(f'Поисковых запросов из {key} слова: {percentage}%')\n"
      ],
      "metadata": {
        "colab": {
          "base_uri": "https://localhost:8080/"
        },
        "id": "-S5paDwSo_M3",
        "outputId": "7677cd8b-ab3b-4b6b-cc99-ff341e0a415a"
      },
      "execution_count": null,
      "outputs": [
        {
          "output_type": "stream",
          "name": "stdout",
          "text": [
            "Поисковых запросов из 3 слова: 57.14%\n",
            "Поисковых запросов из 2 слова: 42.86%\n"
          ]
        }
      ]
    },
    {
      "cell_type": "markdown",
      "source": [
        "**Задание 3**\n",
        "Дана переменная, в которой хранится информация о затратах и доходе рекламных кампаний по различным источникам. Необходимо дополнить исходную структуру показателем ROI, который рассчитаем по формуле: (revenue / cost - 1) * 100\n",
        "\n",
        "Пример работы программы:\n",
        "\n",
        "results = {\n",
        "‘vk’: {‘revenue’: 103, ‘cost’: 98},\n",
        "‘yandex’: {‘revenue’: 179, ‘cost’: 153},\n",
        "‘facebook’: {‘revenue’: 103, ‘cost’: 110},\n",
        "‘adwords’: {‘revenue’: 35, ‘cost’: 34},\n",
        "‘twitter’: {‘revenue’: 11, ‘cost’: 24},\n",
        "}\n",
        "Результат:\n",
        "\n",
        "{‘adwords’: {‘revenue’: 35, ‘cost’: 34, ‘ROI’: 2.94},\n",
        "‘facebook’: {‘revenue’: 103, ‘cost’: 110, ‘ROI’: -6.36},\n",
        "‘twitter’: {‘revenue’: 11, ‘cost’: 24, ‘ROI’: -54.17},\n",
        "‘vk’: {‘revenue’: 103, ‘cost’: 98, ‘ROI’: 5.1},\n",
        "‘yandex’: {‘revenue’: 179, ‘cost’: 153, ‘ROI’: 16.99}}"
      ],
      "metadata": {
        "id": "FRIjF2pfGDiP"
      }
    },
    {
      "cell_type": "code",
      "source": [
        "results = {\n",
        "'vk': {'revenue': 103, 'cost': 98},\n",
        "'yandex': {'revenue': 179, 'cost': 153},\n",
        "'facebook': {'revenue': 103, 'cost': 110},\n",
        "'adwords': {'revenue': 35, 'cost': 34},\n",
        "'twitter': {'revenue': 11, 'cost': 24},\n",
        "}\n",
        "\n",
        "for value in results.values():\n",
        "    value['ROI'] = round((value['revenue'] / value['cost'] - 1) * 100, 2)\n",
        "print(results)"
      ],
      "metadata": {
        "colab": {
          "base_uri": "https://localhost:8080/"
        },
        "id": "BGoCoBz2GI3p",
        "outputId": "5414e039-a72e-46ef-b4fc-b8c443fbb7c0"
      },
      "execution_count": null,
      "outputs": [
        {
          "output_type": "stream",
          "name": "stdout",
          "text": [
            "{'vk': {'revenue': 103, 'cost': 98, 'ROI': 5.1}, 'yandex': {'revenue': 179, 'cost': 153, 'ROI': 16.99}, 'facebook': {'revenue': 103, 'cost': 110, 'ROI': -6.36}, 'adwords': {'revenue': 35, 'cost': 34, 'ROI': 2.94}, 'twitter': {'revenue': 11, 'cost': 24, 'ROI': -54.17}}\n"
          ]
        }
      ]
    },
    {
      "cell_type": "markdown",
      "source": [
        "**Задание 4**\n",
        "Дана переменная, в которой хранится статистика рекламных каналов по объемам продаж (пример структуры данных приведен ниже). Напишите программу, которая возвращает название канала с максимальным объемом продаж.\n",
        "\n",
        "Пример работы программы:\n",
        "\n",
        "stats = {‘facebook’: 55, ‘yandex’: 115, ‘vk’: 120, ‘google’: 99, ‘email’: 42, ‘ok’: 98}\n",
        "\n",
        "Результат: Максимальный объем продаж на рекламном канале: vk"
      ],
      "metadata": {
        "id": "gR7TUBRtNLJ_"
      }
    },
    {
      "cell_type": "code",
      "source": [
        "stats = {'facebook': 55, 'yandex': 115, 'vk': 120, 'google': 99, 'email': 42, 'ok': 98}\n",
        "maximum = max(stats, key = stats.get)\n",
        "print(f'Максимальный объем продаж на рекламном канале: {maximum}')"
      ],
      "metadata": {
        "colab": {
          "base_uri": "https://localhost:8080/"
        },
        "id": "W9i_lOY5NSEd",
        "outputId": "3104b3a9-8083-47c8-914f-e83b9b29dd54"
      },
      "execution_count": null,
      "outputs": [
        {
          "output_type": "stream",
          "name": "stdout",
          "text": [
            "Максимальный объем продаж на рекламном канале: vk\n"
          ]
        }
      ]
    },
    {
      "cell_type": "markdown",
      "source": [
        "**Задание 5 (необязательно)**\n",
        "Дан список произвольной длины. Необходимо написать код, который на основе исходного списка составит словарь такого уровня вложенности, какова длина исхондого списка.\n",
        "\n",
        "Примеры работы программы:\n",
        "\n",
        "my_list = [‘2018-01-01’, ‘yandex’, ‘cpc’, 100]\n",
        "Результат: {‘2018-01-01’: {‘yandex’: {‘cpc’: 100}}}\n",
        "\n",
        "my_list = [‘a’, ‘b’, ‘c’, ‘d’, ‘e’, ‘f’]\n",
        "Результат: {‘a’: {‘b’: {‘c’: {‘d’: {‘e’: ‘f’}}}}}"
      ],
      "metadata": {
        "id": "ORIpGC-BRR7l"
      }
    },
    {
      "cell_type": "code",
      "source": [
        "my_list = ['2018-01-01', 'yandex', 'cpc', 100]\n",
        "my_dict = my_list[-1]\n",
        "for mid in my_list[-2::-1]:\n",
        "  my_dict = {mid: my_dict}\n",
        "print(my_dict)"
      ],
      "metadata": {
        "colab": {
          "base_uri": "https://localhost:8080/"
        },
        "id": "SXxTlrh5RWFL",
        "outputId": "3eac8c59-d681-431f-cdb2-d1f580b9c9ec"
      },
      "execution_count": null,
      "outputs": [
        {
          "output_type": "stream",
          "name": "stdout",
          "text": [
            "{'2018-01-01': {'yandex': {'cpc': 100}}}\n"
          ]
        }
      ]
    },
    {
      "cell_type": "code",
      "source": [
        "my_list = ['a', 'b', 'c', 'd', 'e', 'f']\n",
        "my_dict = my_list[-1]\n",
        "for mid in my_list[-2::-1]:\n",
        "  my_dict = {mid: my_dict}\n",
        "print(my_dict)"
      ],
      "metadata": {
        "colab": {
          "base_uri": "https://localhost:8080/"
        },
        "id": "rMoNZ_YZUn4b",
        "outputId": "d9e53341-de66-4f3f-f9dc-bd01edf05e4d"
      },
      "execution_count": null,
      "outputs": [
        {
          "output_type": "stream",
          "name": "stdout",
          "text": [
            "{'a': {'b': {'c': {'d': {'e': 'f'}}}}}\n"
          ]
        }
      ]
    }
  ]
}