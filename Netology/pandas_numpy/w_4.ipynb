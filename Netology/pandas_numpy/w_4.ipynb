{
  "nbformat": 4,
  "nbformat_minor": 0,
  "metadata": {
    "colab": {
      "provenance": [],
      "authorship_tag": "ABX9TyNVek2q1zhhIJ8kHg+Quaef",
      "include_colab_link": true
    },
    "kernelspec": {
      "name": "python3",
      "display_name": "Python 3"
    },
    "language_info": {
      "name": "python"
    }
  },
  "cells": [
    {
      "cell_type": "markdown",
      "metadata": {
        "id": "view-in-github",
        "colab_type": "text"
      },
      "source": [
        "<a href=\"https://colab.research.google.com/github/kirillspiney/projects/blob/main/pandas_numpy/w_4.ipynb\" target=\"_parent\"><img src=\"https://colab.research.google.com/assets/colab-badge.svg\" alt=\"Open In Colab\"/></a>"
      ]
    },
    {
      "cell_type": "markdown",
      "source": [
        "Задание 1\n",
        "Для датафрейма log из материалов занятия создайте столбец source_type по правилам:\n",
        "\n",
        "если источник traffic_source равен Yandex или Google, то в source_type ставится organic;\n",
        "для источников paid и email из России ставим ad;\n",
        "для источников paid и email не из России ставим other;\n",
        "все остальные варианты берём из traffic_source без изменений"
      ],
      "metadata": {
        "id": "olk1c8Xjk9IA"
      }
    },
    {
      "cell_type": "code",
      "source": [
        "%%time\n",
        "import pandas as pd\n",
        "\n",
        "df = pd.read_csv('/content/visit_log.csv')\n",
        "\n",
        "df_split = df['timestamp;visit_id;url;region;user_id;traffic_source'].str.split(';', expand=True)\n",
        "df_split.columns = ['timestamp', 'visit_id', 'url', 'region', 'user_id', 'traffic_source']\n",
        "\n",
        "def get_source_type(row):\n",
        "    if row['traffic_source'] in ['yandex', 'google'] :\n",
        "        return 'organic'\n",
        "    elif row['traffic_source'] in ['paid', 'email']:\n",
        "        if row['region'] == 'Russia':\n",
        "            return 'ad'\n",
        "        else:\n",
        "            return 'other'\n",
        "    else:\n",
        "        return row['traffic_source']\n",
        "\n",
        "df_split['source_type'] = df_split.apply(get_source_type, axis=1)\n",
        "\n",
        "print(df_split)"
      ],
      "metadata": {
        "colab": {
          "base_uri": "https://localhost:8080/"
        },
        "id": "NiuHoIywlX_C",
        "outputId": "b3ce1f50-4dda-48e7-de15-8c7b022df507"
      },
      "execution_count": null,
      "outputs": [
        {
          "output_type": "stream",
          "name": "stdout",
          "text": [
            "        timestamp    visit_id                                 url   region  \\\n",
            "0      1549980692  e3b0c44298  https://host.ru/3c19b4ef7371864fa3   Russia   \n",
            "1      1549980704  6e340b9cff  https://host.ru/c8d9213a31839f9a3a   Russia   \n",
            "2      1549980715  96a296d224  https://host.ru/b8b58337d272ee7b15   Russia   \n",
            "3      1549980725  709e80c884  https://host.ru/b8b58337d272ee7b15   Russia   \n",
            "4      1549980736  df3f619804  https://host.ru/b8b58337d272ee7b15   Russia   \n",
            "...           ...         ...                                 ...      ...   \n",
            "18933  1550094288  57e5ba8560  https://host.ru/c2382eb3d6afc8d0f3  Belarus   \n",
            "18934  1550094296  6f9389ec1b  https://host.ru/f1eb4601740d627ab0   Russia   \n",
            "18935  1550094308  e8cf2eb8e6  https://host.ru/a5dda93e70318570c0  Belarus   \n",
            "18936  1550094314  79530b9a67  https://host.ru/6fda01ec57f23abc9e   Russia   \n",
            "18937  1550094323  b3b634f824  https://host.ru/39fa884393666d45fc   Russia   \n",
            "\n",
            "          user_id traffic_source source_type  \n",
            "0      b1613cc09f         yandex     organic  \n",
            "1      4c3ec14bee         direct      direct  \n",
            "2      a8c40697fb         yandex     organic  \n",
            "3      521ac1d6a0         yandex     organic  \n",
            "4      d7323c571c         yandex     organic  \n",
            "...           ...            ...         ...  \n",
            "18933  98b19810d0           paid       other  \n",
            "18934  32ebb20c13           paid          ad  \n",
            "18935  b85baa8c73         yandex     organic  \n",
            "18936  e154b06121           paid          ad  \n",
            "18937  7d27a58fb8          email          ad  \n",
            "\n",
            "[18938 rows x 7 columns]\n",
            "CPU times: user 285 ms, sys: 3.62 ms, total: 289 ms\n",
            "Wall time: 293 ms\n"
          ]
        }
      ]
    },
    {
      "cell_type": "code",
      "source": [
        "#используя loc\n",
        "%%time\n",
        "import pandas as pd\n",
        "\n",
        "df = pd.read_csv('/content/visit_log.csv')\n",
        "\n",
        "df_split = df['timestamp;visit_id;url;region;user_id;traffic_source'].str.split(';', expand=True)\n",
        "df_split.columns = ['timestamp', 'visit_id', 'url', 'region', 'user_id', 'traffic_source']\n",
        "\n",
        "df_split.loc[(df_split['traffic_source'] == 'yandex') | (df_split['traffic_source'] == 'google'), 'source_type'] = 'organic'\n",
        "df_split.loc[((df_split['traffic_source'] == 'paid') | (df_split['traffic_source'] == 'email')) & (df_split['region'] == 'Russia'), 'source_type'] = 'ad'\n",
        "df_split.loc[((df_split['traffic_source'] == 'paid') | (df_split['traffic_source'] == 'email')) & (df_split['region'] != 'Russia'), 'source_type'] = 'other'\n",
        "df_split.loc[df_split['source_type'].isna(), 'source_type'] = df_split['traffic_source']\n",
        "\n",
        "print(df_split)"
      ],
      "metadata": {
        "colab": {
          "base_uri": "https://localhost:8080/"
        },
        "id": "Lnp_tigMx9Er",
        "outputId": "f76e4ef1-a6c0-46e1-e28d-74451b568a47"
      },
      "execution_count": null,
      "outputs": [
        {
          "output_type": "stream",
          "name": "stdout",
          "text": [
            "        timestamp    visit_id                                 url   region  \\\n",
            "0      1549980692  e3b0c44298  https://host.ru/3c19b4ef7371864fa3   Russia   \n",
            "1      1549980704  6e340b9cff  https://host.ru/c8d9213a31839f9a3a   Russia   \n",
            "2      1549980715  96a296d224  https://host.ru/b8b58337d272ee7b15   Russia   \n",
            "3      1549980725  709e80c884  https://host.ru/b8b58337d272ee7b15   Russia   \n",
            "4      1549980736  df3f619804  https://host.ru/b8b58337d272ee7b15   Russia   \n",
            "...           ...         ...                                 ...      ...   \n",
            "18933  1550094288  57e5ba8560  https://host.ru/c2382eb3d6afc8d0f3  Belarus   \n",
            "18934  1550094296  6f9389ec1b  https://host.ru/f1eb4601740d627ab0   Russia   \n",
            "18935  1550094308  e8cf2eb8e6  https://host.ru/a5dda93e70318570c0  Belarus   \n",
            "18936  1550094314  79530b9a67  https://host.ru/6fda01ec57f23abc9e   Russia   \n",
            "18937  1550094323  b3b634f824  https://host.ru/39fa884393666d45fc   Russia   \n",
            "\n",
            "          user_id traffic_source source_type  \n",
            "0      b1613cc09f         yandex     organic  \n",
            "1      4c3ec14bee         direct      direct  \n",
            "2      a8c40697fb         yandex     organic  \n",
            "3      521ac1d6a0         yandex     organic  \n",
            "4      d7323c571c         yandex     organic  \n",
            "...           ...            ...         ...  \n",
            "18933  98b19810d0           paid       other  \n",
            "18934  32ebb20c13           paid          ad  \n",
            "18935  b85baa8c73         yandex     organic  \n",
            "18936  e154b06121           paid          ad  \n",
            "18937  7d27a58fb8          email          ad  \n",
            "\n",
            "[18938 rows x 7 columns]\n",
            "CPU times: user 117 ms, sys: 2.09 ms, total: 119 ms\n",
            "Wall time: 124 ms\n"
          ]
        }
      ]
    },
    {
      "cell_type": "code",
      "source": [
        "#используя .where\n",
        "%%time\n",
        "import numpy as np\n",
        "\n",
        "df = pd.read_csv('/content/visit_log.csv')\n",
        "\n",
        "df_split = df['timestamp;visit_id;url;region;user_id;traffic_source'].str.split(';', expand=True)\n",
        "df_split.columns = ['timestamp', 'visit_id', 'url', 'region', 'user_id', 'traffic_source']\n",
        "\n",
        "df_split['source_type'] = np.where(df_split['traffic_source'].isin(['yandex', 'google']), 'organic',\n",
        "                             np.where((df_split['traffic_source'].isin(['paid', 'email'])) & (df_split['region'] == 'Russia'), 'ad',\n",
        "                                      np.where((df_split['traffic_source'].isin(['paid', 'email'])) & (df_split['region'] != 'Russia'), 'other',\n",
        "                                               df_split['traffic_source'])))\n",
        "\n",
        "print(df_split)"
      ],
      "metadata": {
        "colab": {
          "base_uri": "https://localhost:8080/"
        },
        "id": "-c9ejAymzlJE",
        "outputId": "14c1ceb8-7142-4bd4-d586-f1374df30530"
      },
      "execution_count": null,
      "outputs": [
        {
          "output_type": "stream",
          "name": "stdout",
          "text": [
            "        timestamp    visit_id                                 url   region  \\\n",
            "0      1549980692  e3b0c44298  https://host.ru/3c19b4ef7371864fa3   Russia   \n",
            "1      1549980704  6e340b9cff  https://host.ru/c8d9213a31839f9a3a   Russia   \n",
            "2      1549980715  96a296d224  https://host.ru/b8b58337d272ee7b15   Russia   \n",
            "3      1549980725  709e80c884  https://host.ru/b8b58337d272ee7b15   Russia   \n",
            "4      1549980736  df3f619804  https://host.ru/b8b58337d272ee7b15   Russia   \n",
            "...           ...         ...                                 ...      ...   \n",
            "18933  1550094288  57e5ba8560  https://host.ru/c2382eb3d6afc8d0f3  Belarus   \n",
            "18934  1550094296  6f9389ec1b  https://host.ru/f1eb4601740d627ab0   Russia   \n",
            "18935  1550094308  e8cf2eb8e6  https://host.ru/a5dda93e70318570c0  Belarus   \n",
            "18936  1550094314  79530b9a67  https://host.ru/6fda01ec57f23abc9e   Russia   \n",
            "18937  1550094323  b3b634f824  https://host.ru/39fa884393666d45fc   Russia   \n",
            "\n",
            "          user_id traffic_source source_type  \n",
            "0      b1613cc09f         yandex     organic  \n",
            "1      4c3ec14bee         direct      direct  \n",
            "2      a8c40697fb         yandex     organic  \n",
            "3      521ac1d6a0         yandex     organic  \n",
            "4      d7323c571c         yandex     organic  \n",
            "...           ...            ...         ...  \n",
            "18933  98b19810d0           paid       other  \n",
            "18934  32ebb20c13           paid          ad  \n",
            "18935  b85baa8c73         yandex     organic  \n",
            "18936  e154b06121           paid          ad  \n",
            "18937  7d27a58fb8          email          ad  \n",
            "\n",
            "[18938 rows x 7 columns]\n",
            "CPU times: user 105 ms, sys: 3.33 ms, total: 109 ms\n",
            "Wall time: 112 ms\n"
          ]
        }
      ]
    },
    {
      "cell_type": "markdown",
      "source": [
        "В файле URLs.txt содержатся URL страниц новостного сайта. Вам нужно отфильтровать его по адресам страниц с текстами новостей. Известно, что шаблон страницы новостей имеет внутри URL конструкцию: /, затем 8 цифр, затем дефис. Выполните действия:\n",
        "\n",
        "Прочитайте содержимое файла с датафрейм.\n",
        "Отфильтруйте страницы с текстом новостей, используя метод str.contains и регулярное выражение в соответствие с заданным шаблоном."
      ],
      "metadata": {
        "id": "PHZsTL3CqtbN"
      }
    },
    {
      "cell_type": "code",
      "source": [
        "import pandas as pd\n",
        "import re\n",
        "\n",
        "df = pd.read_csv('/content/URLs.txt', names=['url'])\n",
        "\n",
        "pattern = r'\\/\\d{8}-'\n",
        "\n",
        "filtered_urls = df[df['url'].str.contains(pattern)]\n",
        "\n",
        "filtered_urls.info()\n",
        "filtered_urls.head()"
      ],
      "metadata": {
        "colab": {
          "base_uri": "https://localhost:8080/",
          "height": 345
        },
        "id": "SOHpIl2Mqu-t",
        "outputId": "b02299c9-c825-4818-d468-40bd28b3e97e"
      },
      "execution_count": null,
      "outputs": [
        {
          "output_type": "stream",
          "name": "stdout",
          "text": [
            "<class 'pandas.core.frame.DataFrame'>\n",
            "Int64Index: 84 entries, 4 to 93\n",
            "Data columns (total 1 columns):\n",
            " #   Column  Non-Null Count  Dtype \n",
            "---  ------  --------------  ----- \n",
            " 0   url     84 non-null     object\n",
            "dtypes: object(1)\n",
            "memory usage: 1.3+ KB\n"
          ]
        },
        {
          "output_type": "execute_result",
          "data": {
            "text/plain": [
              "                                                 url\n",
              "4  /politics/36188461-s-marta-zhizn-rossiyan-susc...\n",
              "5  /world/36007585-tramp-pridumal-kak-reshit-ukra...\n",
              "6  /science/36157853-nasa-sobiraet-ekstrennuyu-pr...\n",
              "7  /video/36001498-poyavilis-pervye-podrobnosti-g...\n",
              "8  /world/36007585-tramp-pridumal-kak-reshit-ukra..."
            ],
            "text/html": [
              "\n",
              "  <div id=\"df-d23fe1ed-5b13-48bd-b030-81c4868d716e\">\n",
              "    <div class=\"colab-df-container\">\n",
              "      <div>\n",
              "<style scoped>\n",
              "    .dataframe tbody tr th:only-of-type {\n",
              "        vertical-align: middle;\n",
              "    }\n",
              "\n",
              "    .dataframe tbody tr th {\n",
              "        vertical-align: top;\n",
              "    }\n",
              "\n",
              "    .dataframe thead th {\n",
              "        text-align: right;\n",
              "    }\n",
              "</style>\n",
              "<table border=\"1\" class=\"dataframe\">\n",
              "  <thead>\n",
              "    <tr style=\"text-align: right;\">\n",
              "      <th></th>\n",
              "      <th>url</th>\n",
              "    </tr>\n",
              "  </thead>\n",
              "  <tbody>\n",
              "    <tr>\n",
              "      <th>4</th>\n",
              "      <td>/politics/36188461-s-marta-zhizn-rossiyan-susc...</td>\n",
              "    </tr>\n",
              "    <tr>\n",
              "      <th>5</th>\n",
              "      <td>/world/36007585-tramp-pridumal-kak-reshit-ukra...</td>\n",
              "    </tr>\n",
              "    <tr>\n",
              "      <th>6</th>\n",
              "      <td>/science/36157853-nasa-sobiraet-ekstrennuyu-pr...</td>\n",
              "    </tr>\n",
              "    <tr>\n",
              "      <th>7</th>\n",
              "      <td>/video/36001498-poyavilis-pervye-podrobnosti-g...</td>\n",
              "    </tr>\n",
              "    <tr>\n",
              "      <th>8</th>\n",
              "      <td>/world/36007585-tramp-pridumal-kak-reshit-ukra...</td>\n",
              "    </tr>\n",
              "  </tbody>\n",
              "</table>\n",
              "</div>\n",
              "      <button class=\"colab-df-convert\" onclick=\"convertToInteractive('df-d23fe1ed-5b13-48bd-b030-81c4868d716e')\"\n",
              "              title=\"Convert this dataframe to an interactive table.\"\n",
              "              style=\"display:none;\">\n",
              "        \n",
              "  <svg xmlns=\"http://www.w3.org/2000/svg\" height=\"24px\"viewBox=\"0 0 24 24\"\n",
              "       width=\"24px\">\n",
              "    <path d=\"M0 0h24v24H0V0z\" fill=\"none\"/>\n",
              "    <path d=\"M18.56 5.44l.94 2.06.94-2.06 2.06-.94-2.06-.94-.94-2.06-.94 2.06-2.06.94zm-11 1L8.5 8.5l.94-2.06 2.06-.94-2.06-.94L8.5 2.5l-.94 2.06-2.06.94zm10 10l.94 2.06.94-2.06 2.06-.94-2.06-.94-.94-2.06-.94 2.06-2.06.94z\"/><path d=\"M17.41 7.96l-1.37-1.37c-.4-.4-.92-.59-1.43-.59-.52 0-1.04.2-1.43.59L10.3 9.45l-7.72 7.72c-.78.78-.78 2.05 0 2.83L4 21.41c.39.39.9.59 1.41.59.51 0 1.02-.2 1.41-.59l7.78-7.78 2.81-2.81c.8-.78.8-2.07 0-2.86zM5.41 20L4 18.59l7.72-7.72 1.47 1.35L5.41 20z\"/>\n",
              "  </svg>\n",
              "      </button>\n",
              "      \n",
              "  <style>\n",
              "    .colab-df-container {\n",
              "      display:flex;\n",
              "      flex-wrap:wrap;\n",
              "      gap: 12px;\n",
              "    }\n",
              "\n",
              "    .colab-df-convert {\n",
              "      background-color: #E8F0FE;\n",
              "      border: none;\n",
              "      border-radius: 50%;\n",
              "      cursor: pointer;\n",
              "      display: none;\n",
              "      fill: #1967D2;\n",
              "      height: 32px;\n",
              "      padding: 0 0 0 0;\n",
              "      width: 32px;\n",
              "    }\n",
              "\n",
              "    .colab-df-convert:hover {\n",
              "      background-color: #E2EBFA;\n",
              "      box-shadow: 0px 1px 2px rgba(60, 64, 67, 0.3), 0px 1px 3px 1px rgba(60, 64, 67, 0.15);\n",
              "      fill: #174EA6;\n",
              "    }\n",
              "\n",
              "    [theme=dark] .colab-df-convert {\n",
              "      background-color: #3B4455;\n",
              "      fill: #D2E3FC;\n",
              "    }\n",
              "\n",
              "    [theme=dark] .colab-df-convert:hover {\n",
              "      background-color: #434B5C;\n",
              "      box-shadow: 0px 1px 3px 1px rgba(0, 0, 0, 0.15);\n",
              "      filter: drop-shadow(0px 1px 2px rgba(0, 0, 0, 0.3));\n",
              "      fill: #FFFFFF;\n",
              "    }\n",
              "  </style>\n",
              "\n",
              "      <script>\n",
              "        const buttonEl =\n",
              "          document.querySelector('#df-d23fe1ed-5b13-48bd-b030-81c4868d716e button.colab-df-convert');\n",
              "        buttonEl.style.display =\n",
              "          google.colab.kernel.accessAllowed ? 'block' : 'none';\n",
              "\n",
              "        async function convertToInteractive(key) {\n",
              "          const element = document.querySelector('#df-d23fe1ed-5b13-48bd-b030-81c4868d716e');\n",
              "          const dataTable =\n",
              "            await google.colab.kernel.invokeFunction('convertToInteractive',\n",
              "                                                     [key], {});\n",
              "          if (!dataTable) return;\n",
              "\n",
              "          const docLinkHtml = 'Like what you see? Visit the ' +\n",
              "            '<a target=\"_blank\" href=https://colab.research.google.com/notebooks/data_table.ipynb>data table notebook</a>'\n",
              "            + ' to learn more about interactive tables.';\n",
              "          element.innerHTML = '';\n",
              "          dataTable['output_type'] = 'display_data';\n",
              "          await google.colab.output.renderOutput(dataTable, element);\n",
              "          const docLink = document.createElement('div');\n",
              "          docLink.innerHTML = docLinkHtml;\n",
              "          element.appendChild(docLink);\n",
              "        }\n",
              "      </script>\n",
              "    </div>\n",
              "  </div>\n",
              "  "
            ]
          },
          "metadata": {},
          "execution_count": 24
        }
      ]
    },
    {
      "cell_type": "markdown",
      "source": [
        "Используйте файл с оценками фильмов ml-latest-small/ratings.csv. Посчитайте среднее время жизни пользователей, которые выставили более 100 оценок. Под временем жизни понимается разница между максимальным и минимальным значениями столбца timestamp для данного значения userId."
      ],
      "metadata": {
        "id": "KXstluK7rUa7"
      }
    },
    {
      "cell_type": "code",
      "source": [
        "import pandas as pd\n",
        "\n",
        "df = pd.read_csv('/content/ratings.csv')\n",
        "\n",
        "ratings_count = df.groupby('userId')['rating'].count()\n",
        "active_users = ratings_count[ratings_count > 100]\n",
        "active_users_data = df[df['userId'].isin(active_users.index)]\n",
        "user_lifetime = active_users_data.groupby('userId')['timestamp'].apply(lambda x: x.max() - x.min())\n",
        "mean_lifetime = user_lifetime.mean()\n",
        "\n",
        "print(f\"Среднее время жизни активных пользователей: {mean_lifetime}\")"
      ],
      "metadata": {
        "colab": {
          "base_uri": "https://localhost:8080/"
        },
        "id": "21KXOubcrbrm",
        "outputId": "afb92b51-4f18-4db6-946e-1b9d95e534b9"
      },
      "execution_count": null,
      "outputs": [
        {
          "output_type": "stream",
          "name": "stdout",
          "text": [
            "Среднее время жизни активных пользователей: 40080507.4496124\n"
          ]
        }
      ]
    },
    {
      "cell_type": "markdown",
      "source": [
        "Дана статистика услуг перевозок клиентов компании по типам (см. файл “Python_13_join.ipynb” в разделе «Материалы для лекции “Продвинутый pandas”» ---- Ноутбуки к лекции «Продвинутый pandas»).\n",
        "Нужно сформировать две таблицы:\n",
        "\n",
        "таблицу с тремя типами выручки для каждого client_id без указания адреса клиента;\n",
        "аналогичную таблицу по типам выручки с указанием адреса клиента.\n",
        "Обратите внимание, что в процессе объединения таблиц данные не должны теряться."
      ],
      "metadata": {
        "id": "3TPd-5S4t_cg"
      }
    },
    {
      "cell_type": "code",
      "source": [
        "rzd = pd.DataFrame(\n",
        "    {\n",
        "        'client_id': [111, 112, 113, 114, 115],\n",
        "        'rzd_revenue': [1093, 2810, 10283, 5774, 981]\n",
        "    }\n",
        ")\n",
        "\n",
        "auto = pd.DataFrame(\n",
        "    {\n",
        "        'client_id': [113, 114, 115, 116, 117],\n",
        "        'auto_revenue': [57483, 83, 912, 4834, 98]\n",
        "    }\n",
        ")\n",
        "\n",
        "air = pd.DataFrame(\n",
        "    {\n",
        "        'client_id': [115, 116, 117, 118],\n",
        "        'air_revenue': [81, 4, 13, 173]\n",
        "    }\n",
        ")\n",
        "\n",
        "client_base = pd.DataFrame(\n",
        "    {\n",
        "        'client_id': [111, 112, 113, 114, 115, 116, 117, 118],\n",
        "        'address': ['Комсомольская 4', 'Энтузиастов 8а', 'Левобережная 1а', 'Мира 14', 'ЗЖБИиДК 1', \n",
        "                    'Строителей 18', 'Панфиловская 33', 'Мастеркова 4']\n",
        "    }\n",
        ")"
      ],
      "metadata": {
        "id": "mykAXz_xuAoH"
      },
      "execution_count": null,
      "outputs": []
    },
    {
      "cell_type": "code",
      "source": [
        "revenue = rzd.merge(auto, how='outer', on='client_id').merge(air, how='outer', on='client_id')\n",
        "revenue_with_address = revenue.merge(client_base, how='left', on='client_id')\n",
        "revenue_without_address = revenue_with_address.drop('address', axis=1)\n",
        "\n",
        "print(revenue_without_address)\n",
        "print(revenue_with_address)"
      ],
      "metadata": {
        "colab": {
          "base_uri": "https://localhost:8080/"
        },
        "id": "fcUpk0CSugko",
        "outputId": "b4f50045-cd63-45c0-adb5-d3b70a0a36a4"
      },
      "execution_count": null,
      "outputs": [
        {
          "output_type": "stream",
          "name": "stdout",
          "text": [
            "   client_id  rzd_revenue  auto_revenue  air_revenue\n",
            "0        111       1093.0           NaN          NaN\n",
            "1        112       2810.0           NaN          NaN\n",
            "2        113      10283.0       57483.0          NaN\n",
            "3        114       5774.0          83.0          NaN\n",
            "4        115        981.0         912.0         81.0\n",
            "5        116          NaN        4834.0          4.0\n",
            "6        117          NaN          98.0         13.0\n",
            "7        118          NaN           NaN        173.0\n",
            "   client_id  rzd_revenue  auto_revenue  air_revenue          address\n",
            "0        111       1093.0           NaN          NaN  Комсомольская 4\n",
            "1        112       2810.0           NaN          NaN   Энтузиастов 8а\n",
            "2        113      10283.0       57483.0          NaN  Левобережная 1а\n",
            "3        114       5774.0          83.0          NaN          Мира 14\n",
            "4        115        981.0         912.0         81.0        ЗЖБИиДК 1\n",
            "5        116          NaN        4834.0          4.0    Строителей 18\n",
            "6        117          NaN          98.0         13.0  Панфиловская 33\n",
            "7        118          NaN           NaN        173.0     Мастеркова 4\n"
          ]
        }
      ]
    }
  ]
}