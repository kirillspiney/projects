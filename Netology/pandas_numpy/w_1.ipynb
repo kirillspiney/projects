{
  "nbformat": 4,
  "nbformat_minor": 0,
  "metadata": {
    "colab": {
      "provenance": [],
      "authorship_tag": "ABX9TyOn5+tAoLQGC/gHB216clts",
      "include_colab_link": true
    },
    "kernelspec": {
      "name": "python3",
      "display_name": "Python 3"
    },
    "language_info": {
      "name": "python"
    }
  },
  "cells": [
    {
      "cell_type": "markdown",
      "metadata": {
        "id": "view-in-github",
        "colab_type": "text"
      },
      "source": [
        "<a href=\"https://colab.research.google.com/github/kirillspiney/projects/blob/main/pandas_numpy/w_1.ipynb\" target=\"_parent\"><img src=\"https://colab.research.google.com/assets/colab-badge.svg\" alt=\"Open In Colab\"/></a>"
      ]
    },
    {
      "cell_type": "markdown",
      "source": [
        "Задание 1\n",
        "Создайте numpy array с элементами от числа N до 0. Например, для N = 10 это будет array([9, 8, 7, 6, 5, 4, 3, 2, 1, 0]))."
      ],
      "metadata": {
        "id": "cv0SRAXFLOhz"
      }
    },
    {
      "cell_type": "code",
      "source": [
        "import numpy as np\n",
        "\n",
        "N = 10\n",
        "arr = np.arange(N-1, -1, -1)\n",
        "print(arr)"
      ],
      "metadata": {
        "colab": {
          "base_uri": "https://localhost:8080/"
        },
        "id": "tw8qxdEzLc_l",
        "outputId": "9d7c35f7-49a0-422c-f156-3576e83f2b7c"
      },
      "execution_count": null,
      "outputs": [
        {
          "output_type": "stream",
          "name": "stdout",
          "text": [
            "[9 8 7 6 5 4 3 2 1 0]\n"
          ]
        }
      ]
    },
    {
      "cell_type": "markdown",
      "source": [
        "Задание 2\n",
        "Создайте диагональную матрицу с элементами от N до 0. Посчитайте сумму её значений на диагонали."
      ],
      "metadata": {
        "id": "wbXomwnML7Ga"
      }
    },
    {
      "cell_type": "code",
      "source": [
        "import numpy as np\n",
        "\n",
        "N = 10\n",
        "diag_arr = np.diag(np.arange(N, -1, -1))\n",
        "diag_sum = np.trace(diag_arr)\n",
        "print(diag_arr)\n",
        "print(diag_sum)"
      ],
      "metadata": {
        "colab": {
          "base_uri": "https://localhost:8080/"
        },
        "id": "B3On2Ae0L-ai",
        "outputId": "acf6d541-7f09-457a-85be-8bc4333aad71"
      },
      "execution_count": null,
      "outputs": [
        {
          "output_type": "stream",
          "name": "stdout",
          "text": [
            "[[10  0  0  0  0  0  0  0  0  0  0]\n",
            " [ 0  9  0  0  0  0  0  0  0  0  0]\n",
            " [ 0  0  8  0  0  0  0  0  0  0  0]\n",
            " [ 0  0  0  7  0  0  0  0  0  0  0]\n",
            " [ 0  0  0  0  6  0  0  0  0  0  0]\n",
            " [ 0  0  0  0  0  5  0  0  0  0  0]\n",
            " [ 0  0  0  0  0  0  4  0  0  0  0]\n",
            " [ 0  0  0  0  0  0  0  3  0  0  0]\n",
            " [ 0  0  0  0  0  0  0  0  2  0  0]\n",
            " [ 0  0  0  0  0  0  0  0  0  1  0]\n",
            " [ 0  0  0  0  0  0  0  0  0  0  0]]\n",
            "55\n"
          ]
        }
      ]
    },
    {
      "cell_type": "markdown",
      "source": [
        "Задание 3\n",
        "Решите систему уравнений:\n",
        "4x + 2y + z = 4\n",
        "x + 3y = 12\n",
        "5y + 4z = -3"
      ],
      "metadata": {
        "id": "ul_CydvMMTs9"
      }
    },
    {
      "cell_type": "code",
      "source": [
        "import numpy as np\n",
        "\n",
        "A = np.array([[4, 2, 1], [1, 3, 0], [0, 5, 4]])\n",
        "\n",
        "B = np.array([4, 12, -3])\n",
        "\n",
        "X = np.linalg.solve(A, B)\n",
        "\n",
        "print(\"x = \", X[0])\n",
        "print(\"y = \", X[1])\n",
        "print(\"z = \", X[2])"
      ],
      "metadata": {
        "colab": {
          "base_uri": "https://localhost:8080/"
        },
        "id": "f1yWvMTzMd7H",
        "outputId": "d7b1a659-f9da-4be8-fb6e-51f860fa9ebf"
      },
      "execution_count": null,
      "outputs": [
        {
          "output_type": "stream",
          "name": "stdout",
          "text": [
            "x =  0.4666666666666668\n",
            "y =  3.844444444444444\n",
            "z =  -5.555555555555555\n"
          ]
        }
      ]
    },
    {
      "cell_type": "markdown",
      "source": [
        "Задание 4. Имеется матрица покупок в интернет-магазине. Столбец А - ID пользователя. Остальные столбцы - количество покупок категорий товаров этим пользователем:\n",
        "users_stats = np.array(\n",
        "    [\n",
        "        [2, 1, 0, 0, 0, 0],\n",
        "        [1, 1, 2, 1, 0, 0],\n",
        "        [2, 0, 1, 0, 0, 0],\n",
        "        [1, 1, 2, 1, 0, 1],\n",
        "        [0, 0, 1, 2, 0, 0],\n",
        "        [0, 0, 0, 0, 0, 5],\n",
        "        [1, 0, 0, 0, 0, 0],\n",
        "        [0, 1, 1, 0, 0, 0],\n",
        "        [0, 0, 0, 1, 1, 3],\n",
        "        [1, 0, 0, 2, 1, 4]\n",
        "    ], \n",
        "    np.int32\n",
        ")\n",
        "На сайт заходит очередной посетитель, о покупках которого известно следующее:\n",
        "next_user_stats = np.array([0, 1, 2, 0, 0, 0])\n",
        "\n",
        "Найдите самого похожего пользователя. Т. е. посчитайте косинусное сходство между этим пользователем и всеми пользователями из массива user_stats"
      ],
      "metadata": {
        "id": "4E33DNRRPPyT"
      }
    },
    {
      "cell_type": "code",
      "source": [
        "#с доп. библиотекой\n",
        "from sklearn.metrics.pairwise import cosine_similarity\n",
        "import numpy as np\n",
        "\n",
        "users_stats = np.array([\n",
        "    [2, 1, 0, 0, 0, 0],\n",
        "    [1, 1, 2, 1, 0, 0],\n",
        "    [2, 0, 1, 0, 0, 0],\n",
        "    [1, 1, 2, 1, 0, 1],\n",
        "    [0, 0, 1, 2, 0, 0],\n",
        "    [0, 0, 0, 0, 0, 5],\n",
        "    [1, 0, 0, 0, 0, 0],\n",
        "    [0, 1, 1, 0, 0, 0],\n",
        "    [0, 0, 0, 1, 1, 3],\n",
        "    [1, 0, 0, 2, 1, 4]\n",
        "], np.int32)\n",
        "\n",
        "next_user_stats = np.array([0, 1, 2, 0, 0, 0])\n",
        "\n",
        "similarities = []\n",
        "\n",
        "for user_stats in users_stats:\n",
        "    similarity = cosine_similarity([next_user_stats], [user_stats])\n",
        "    similarities.append(similarity[0][0])\n",
        "\n",
        "most_similar_user_index = np.argmax(similarities)\n",
        "\n",
        "print(\"Самый похожий пользователь имеет индекс:\", most_similar_user_index)\n",
        "print(\"Значение косинусного сходства:\", similarities[most_similar_user_index])"
      ],
      "metadata": {
        "colab": {
          "base_uri": "https://localhost:8080/"
        },
        "id": "iosFT12nUV2S",
        "outputId": "166d2fc5-3836-4172-d4b0-d2d40911dd13"
      },
      "execution_count": null,
      "outputs": [
        {
          "output_type": "stream",
          "name": "stdout",
          "text": [
            "Самый похожий пользователь имеет индекс: 7\n",
            "Значение косинусного сходства: 0.9486832980505137\n"
          ]
        }
      ]
    },
    {
      "cell_type": "code",
      "source": [
        "#только numpy\n",
        "import numpy as np\n",
        "\n",
        "users_stats = np.array([\n",
        "    [2, 1, 0, 0, 0, 0],\n",
        "    [1, 1, 2, 1, 0, 0],\n",
        "    [2, 0, 1, 0, 0, 0],\n",
        "    [1, 1, 2, 1, 0, 1],\n",
        "    [0, 0, 1, 2, 0, 0],\n",
        "    [0, 0, 0, 0, 0, 5],\n",
        "    [1, 0, 0, 0, 0, 0],\n",
        "    [0, 1, 1, 0, 0, 0],\n",
        "    [0, 0, 0, 1, 1, 3],\n",
        "    [1, 0, 0, 2, 1, 4]\n",
        "], np.int32)\n",
        "\n",
        "next_user_stats = np.array([0, 1, 2, 0, 0, 0])\n",
        "\n",
        "similarities = []\n",
        "\n",
        "for user_stats in users_stats:\n",
        "    dot_product = np.dot(next_user_stats, user_stats)\n",
        "    norm_next_user_stats = np.linalg.norm(next_user_stats)\n",
        "    norm_user_stats = np.linalg.norm(user_stats)\n",
        "    similarity = dot_product / (norm_next_user_stats * norm_user_stats)\n",
        "    similarities.append(similarity)\n",
        "\n",
        "most_similar_user_index = np.argmax(similarities)\n",
        "\n",
        "print(\"Самый похожий пользователь имеет индекс:\", most_similar_user_index)\n",
        "print(\"Значение косинусного сходства:\", similarities[most_similar_user_index])"
      ],
      "metadata": {
        "colab": {
          "base_uri": "https://localhost:8080/"
        },
        "id": "6GHjcLyhUvpz",
        "outputId": "b63a67b8-9971-4cbe-e323-7e3ed85fe23c"
      },
      "execution_count": null,
      "outputs": [
        {
          "output_type": "stream",
          "name": "stdout",
          "text": [
            "Самый похожий пользователь имеет индекс: 7\n",
            "Значение косинусного сходства: 0.9486832980505138\n"
          ]
        }
      ]
    }
  ]
}