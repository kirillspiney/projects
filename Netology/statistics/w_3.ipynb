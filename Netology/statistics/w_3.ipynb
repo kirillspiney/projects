{
  "nbformat": 4,
  "nbformat_minor": 0,
  "metadata": {
    "colab": {
      "provenance": []
    },
    "kernelspec": {
      "name": "python3",
      "display_name": "Python 3"
    },
    "language_info": {
      "name": "python"
    }
  },
  "cells": [
    {
      "cell_type": "code",
      "execution_count": null,
      "metadata": {
        "id": "3XXel4_B7lIH"
      },
      "outputs": [],
      "source": [
        "Смоделировать игру против лотерейного автомата типа “777”. Игрок платит 1 руб., после чего выпадает случайное целое число, равномерно распределенное от 0 до 999. При некоторых значениях числа игрок получает выигрыш.\n",
        "\n",
        "777: 200 руб.\n",
        "999: 100 руб.\n",
        "555: 50 руб.\n",
        "333: 15 руб.\n",
        "111: 10 руб.\n",
        "*77: 5 руб.\n",
        "**7: 3 руб.\n",
        "*00: 2 руб.\n",
        "**0: 1 руб.\n",
        "\n",
        "Вопросы:\n",
        "\n",
        "Выгодна ли игра игроку?\n",
        "Сколько в среднем приобретает или теряет игрок за одну игру?\n",
        "**Дополнительное задание повышенной сложности. **\n",
        "\n",
        "Теоретически рассчитать средний выигрыш (проигрыш) и сравнить с результатами моделирования\n",
        "\n",
        "* – любая цифра"
      ]
    },
    {
      "cell_type": "code",
      "source": [
        "import random\n",
        "\n",
        "def play_slot_machine():\n",
        "    number = random.randint(0, 999)\n",
        "    if number == 777:\n",
        "        return 200\n",
        "    elif number == 999:\n",
        "        return 100\n",
        "    elif number == 555:\n",
        "        return 50\n",
        "    elif number == 333:\n",
        "        return 15\n",
        "    elif number == 111:\n",
        "        return 10\n",
        "    elif number % 100 == 77:\n",
        "        return 5\n",
        "    elif number % 10 == 7:\n",
        "        return 3\n",
        "    elif number % 100 == 0:\n",
        "        return 2\n",
        "    elif number % 10 == 0:\n",
        "        return 1\n",
        "    else:\n",
        "        return 0\n",
        "\n",
        "num_plays = 10000000\n",
        "total_payout = 0\n",
        "total_cost = num_plays\n",
        "for i in range(num_plays):\n",
        "    payout = play_slot_machine()\n",
        "    total_payout += payout\n",
        "\n",
        "average_payout = total_payout / num_plays\n",
        "average_cost = 1\n",
        "average_profit = average_payout - average_cost\n",
        "\n",
        "print(\"Средний выигрыш за одну игру: {:.3f} руб.\".format(average_payout))\n",
        "print(\"Средний проигрыш за одну игру: {:.3f} руб.\".format(average_cost))\n",
        "print(\"Средний доход за одну игру: {:.3f} руб.\".format(average_profit))"
      ],
      "metadata": {
        "colab": {
          "base_uri": "https://localhost:8080/"
        },
        "id": "UK9CL0Iq7w-0",
        "outputId": "d8e8dfa7-b6de-476a-c20a-055a9dc1cd1d"
      },
      "execution_count": null,
      "outputs": [
        {
          "output_type": "stream",
          "name": "stdout",
          "text": [
            "Средний выигрыш за одну игру: 0.801 руб.\n",
            "Средний проигрыш за одну игру: 1.000 руб.\n",
            "Средний доход за одну игру: -0.199 руб.\n"
          ]
        }
      ]
    },
    {
      "cell_type": "markdown",
      "source": [
        "Теоретически формула будет такой: (1/1000) * 200 + (1/1000) * 100 + (1/1000) * 50 + (1/1000) * 15 + (1/1000) * 10 + (10/1000) * 5 + (90/1000) * 3 + (1/100) * 2 + (90/1000) * 1 - 1 = -0.195 руб.\n",
        "**Игра игроку невыгодна.**"
      ],
      "metadata": {
        "id": "rdXnBLBf-ejq"
      }
    }
  ]
}