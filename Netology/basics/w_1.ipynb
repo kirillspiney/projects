{
  "nbformat": 4,
  "nbformat_minor": 0,
  "metadata": {
    "colab": {
      "provenance": [],
      "authorship_tag": "ABX9TyMbzFZ6TqaOT66ikhjmZRDh",
      "include_colab_link": true
    },
    "kernelspec": {
      "name": "python3",
      "display_name": "Python 3"
    },
    "language_info": {
      "name": "python"
    }
  },
  "cells": [
    {
      "cell_type": "markdown",
      "metadata": {
        "id": "view-in-github",
        "colab_type": "text"
      },
      "source": [
        "<a href=\"https://colab.research.google.com/github/kirillspiney/projects/blob/main/basics/w_1.ipynb\" target=\"_parent\"><img src=\"https://colab.research.google.com/assets/colab-badge.svg\" alt=\"Open In Colab\"/></a>"
      ]
    },
    {
      "cell_type": "markdown",
      "source": [
        "**Задание 1**\n",
        "Даны 2 переменных, в которых хранятся строки произвольной длины: phrase_1 и phrase_2.\n",
        "Напишите код, который проверяет какая из этих строк длиннее.\n",
        "\n",
        "Примеры работы программы:\n",
        "\n",
        "phrase_1 = 'Насколько проще было бы писать программы, если бы не заказчики’\n",
        "phrase_2 = '640Кб должно хватить для любых задач. Билл Гейтс (по легенде)'\n",
        "Результат:\n",
        "Фраза 1 длиннее фразы 2\n",
        "\n",
        "phrase_1 = '640Кб должно хватить для любых задач. Билл Гейтс (по легенде)'\n",
        "phrase_2 = 'Насколько проще было бы писать программы, если бы не заказчики’\n",
        "Результат:\n",
        "Фраза 2 длиннее фразы 1\n",
        "\n",
        "phrase_1 = 'Насколько проще было бы писать программы, если бы не заказчики’\n",
        "phrase_2 = 'Насколько проще было бы писать программы, если бы не заказчики’\n",
        "Результат:\n",
        "Фразы равной длины"
      ],
      "metadata": {
        "id": "SN5xbJUIQkXD"
      }
    },
    {
      "cell_type": "code",
      "source": [
        "phrase_1 = input()\n",
        "phrase_2 = input()\n",
        "if len(phrase_1) > len(phrase_2):\n",
        "  print('Фраза 1 длиннее фразы 2')\n",
        "elif len(phrase_1) < len(phrase_2):\n",
        "  print('Фраза 2 длиннее фразы 1')\n",
        "else:\n",
        "  print('Фразы равной длины')"
      ],
      "metadata": {
        "id": "-WbqsxupQmkr"
      },
      "execution_count": null,
      "outputs": []
    },
    {
      "cell_type": "markdown",
      "source": [
        "**Задание 2**\n",
        "Дана переменная, в которой хранится четырехзначное число (год). Необходимо написать программу, которая выведет, является ли данный год високосным или обычным.\n",
        "\n",
        "Пример работы программы:\n",
        "\n",
        "year = 2020\n",
        "Результат:\n",
        "Високосный год\n",
        "\n",
        "year = 2019\n",
        "Результат:\n",
        "Обычный год"
      ],
      "metadata": {
        "id": "onw5BAoiR2Hc"
      }
    },
    {
      "cell_type": "code",
      "source": [
        "year = int(input())\n",
        "if year % 4 == 0 and year % 100 != 0 or year % 400 == 0:\n",
        "  print(\"Високосный год\")\n",
        "else:\n",
        "  print(\"Обычный год\")\n"
      ],
      "metadata": {
        "id": "-LXtzfJcR60V"
      },
      "execution_count": null,
      "outputs": []
    },
    {
      "cell_type": "markdown",
      "source": [
        "**Задание 3**\n",
        "Необходимо написать программу, которая будет запрашивать у пользователя месяц и дату рождения и выводить соответствующий знак зодиака.\n",
        "\n",
        "Пример работы программы:\n",
        "\n",
        "Введите день:\n",
        "30\n",
        "\n",
        "Введите месяц:\n",
        "Август\n",
        "\n",
        "Результат:\n",
        "Ваш знак зодиака: Дева\n",
        "\n",
        "Введите день:\n",
        "29\n",
        "\n",
        "Введите месяц:\n",
        "Октябрь\n",
        "\n",
        "Результат:\n",
        "Ваш знак зодиака: Скорпион"
      ],
      "metadata": {
        "id": "Hiy8OhwwSl0X"
      }
    },
    {
      "cell_type": "code",
      "source": [
        "date = int(input(\"Введите дату рождения \"))\n",
        "month = input(\"Введите месяц рождения \")\n",
        "\n",
        "if (date >= 21 and date <= 31 and month == \"Март\") or (month == \"Апрель\" and date >= 1 and date <= 19):\n",
        "   print(\"Знак зодиака: Овен\")\n",
        "elif (date >= 20 and date <= 30 and month == \"Апрель\") or (month == \"Май\" and date >= 1 and date <= 20):\n",
        "   print(\"Знак зодиака: Телец\")\n",
        "elif (date >= 21 and date <= 31 and month == \"Май\") or (month == \"Июнь\" and date >= 1 and date <= 21):\n",
        "   print(\"Знак зодиака: Близнецы\")\n",
        "elif (date >= 22 and date <= 30 and month == \"Июнь\") or (month == \"Июль\" and date >=1 and date <= 22):\n",
        "   print(\"Знак зодиака: Рак\")\n",
        "elif (date >= 23 and date <= 31 and month == \"Июль\") or (month == \"Август\" and date >= 1 and date <= 22):\n",
        "   print(\"Знак зодиака:Лев\")\n",
        "elif (date >= 23 and date <= 31 and month == \"Август\") or (month == \"Сентябрь\" and date >= 1 and date <= 22):\n",
        "   print(\"Знак зодиака:Дева\")\n",
        "elif (date >= 23 and date <= 30 and month == \"Сентябрь\") or (month == \"Октябрь\" and date >= 1 and date <= 23):\n",
        "   print(\"Знак зодиака: Весы\")\n",
        "elif (date >= 24 and date <= 31 and month == \"Октябрь\") or (month == \"Ноябрь\" and date >= 1 and date <= 22):\n",
        "   print(\"Знак зодиака: Скорпион\")\n",
        "elif (date >= 23 and date <= 30 and month == \"Ноябрь\") or (month == \"Декабрь\" and date >= 1 and date <= 21):\n",
        "   print(\"Знак зодиака: Стрелец\")\n",
        "elif (date >= 22 and date <= 31 and month == \"Декабрь\") or (month == \"Январь\" and date >= 1 and date <= 20):\n",
        "   print(\"Знак зодиака: Козерог\")\n",
        "elif (date >= 21 and date <= 31 and month == \"Январь\") or (month == \"Февраль\" and date >= 1 and date <= 18):\n",
        "   print(\"Знак зодиака: Водолей\")\n",
        "elif (date >= 19 and date <= 29 and month == \"Февраль\") or (month == \"Март\" and date >= 1 and date <= 20):\n",
        "   print(\"Знак зодиака: Рыбы\")"
      ],
      "metadata": {
        "id": "XhhWP3bySoH0"
      },
      "execution_count": null,
      "outputs": []
    },
    {
      "cell_type": "markdown",
      "source": [
        "**Задание 4**\n",
        "Вам нужно написать программу для подбора упаковок по размерам товара. Размеры (ширина, длина, высота) хранятся в переменных (в сантиметрах):\n",
        "\n",
        "Используйте следующие правила:\n",
        "\n",
        "если каждое из трех измерений менее или равно 15 сантиметрам, то выведите на экран “Коробка №1”;\n",
        "если хотя бы одно из измерений больше 15 сантиметров, но менее 50 сантиметров, то выводите “Коробка №2”;\n",
        "если длина товара больше 2 метров, то выводите “Упаковка для лыж”;\n",
        "во всех остальных случаях выводите “Стандартная коробка №3”.\n",
        "Пример работы программы:\n",
        "width = 15\n",
        "length = 50\n",
        "height = 15\n",
        "Результат:\n",
        "Стандартная коробка №3\n",
        "\n",
        "width = 45\n",
        "length = 205\n",
        "height = 45\n",
        "Результат:\n",
        "Ищите упаковку для лыж"
      ],
      "metadata": {
        "id": "M8ozuwM0Thii"
      }
    },
    {
      "cell_type": "code",
      "source": [
        "width = int(input('Ширина '))\n",
        "length = int(input('Длина '))\n",
        "height = int(input('Высота '))\n",
        "\n",
        "if width <= 15 and length <= 15 and height <= 15:\n",
        "  print('Коробка №1')\n",
        "elif 15 < width < 50 and 15 < length < 50 and 15 < height < 50:\n",
        "  print('Коробка №2')\n",
        "elif length > 200:\n",
        "  print('Упаковка для лыж')\n",
        "else:\n",
        "  print('Стандартная коробка №3')"
      ],
      "metadata": {
        "id": "JI8blUhzTpLE"
      },
      "execution_count": null,
      "outputs": []
    },
    {
      "cell_type": "markdown",
      "source": [
        "**Задание 5 (необязательное)**\n",
        "Дана переменная, в которой хранится шестизначное число (номер проездного билета). Напишите программу, которая будет определять, является ли данный билет “счастливым”.\n",
        "Билет считается счастливым, если сумма первых трех цифр совпадает с суммой последних трех цифр номера.\n",
        "\n",
        "Примеры работы программы:\n",
        "\n",
        "1.number = 123456\n",
        "Результат:\n",
        "Несчастливый билет\n",
        "\n",
        "1.number = 123321\n",
        "Результат:\n",
        "Счастливый билет"
      ],
      "metadata": {
        "id": "28r5nsoaUxy8"
      }
    },
    {
      "cell_type": "code",
      "source": [
        "number = str(input('number = '))\n",
        "sum1 = int(number[0]) + int(number[1]) + int(number[2])\n",
        "sum2 = int(number[3]) + int(number[4]) + int(number[5])\n",
        "print('Результат:')\n",
        "if sum1 == sum2:\n",
        "  print('Счастливый билет')\n",
        "else:\n",
        "  print('Несчастливый билет')"
      ],
      "metadata": {
        "id": "t07OwJiPU0uc"
      },
      "execution_count": null,
      "outputs": []
    },
    {
      "cell_type": "markdown",
      "source": [
        "**Задание 6 (необязательное)**\n",
        "Напишите программу, которая сможет вычислять площади трех фигур (круг, треугольник и прямоугольник). Тип фигуры запрашиваем через пользовательский ввод, после чего делаем запрос характеристик фигуры:\n",
        "\n",
        "если пользователь выбрал круг, запрашиваем его радиус,\n",
        "если треугольник – длины трех его сторон;\n",
        "если прямоугольник – длины двух его сторон.\n",
        "Пример работы программы:\n",
        "1.\n",
        "Введите тип фигуры:\n",
        "Круг\n",
        "\n",
        "Введите радиус круга:\n",
        "10\n",
        "Результат:\n",
        "Площадь круга: 314.16\n",
        "\n",
        "Введите тип фигуры:\n",
        "Треугольник\n",
        "\n",
        "Введите длину стороны A:\n",
        "2\n",
        "\n",
        "Введите длину стороны B:\n",
        "2\n",
        "\n",
        "Введите длину стороны C:\n",
        "3\n",
        "Результат:\n",
        "Площадь треугольника: 1.98"
      ],
      "metadata": {
        "id": "PEZY0QwdVhSM"
      }
    },
    {
      "cell_type": "code",
      "source": [
        "import math\n",
        "figure = str(input('Введите тип фигуры = '))\n",
        "if figure == 'Круг':\n",
        "  r = float(input('Введите радиус круга = '))\n",
        "  s = math.pi * (r**2)\n",
        "  print(f'Площадь круга = {s :.2f}')\n",
        "elif figure == 'Треугольник':\n",
        "  s1 = float(input('Введите длину стороны А = '))\n",
        "  s2 = float(input('Введите длину стороны B = '))\n",
        "  s3 = float(input('Введите длину стороны C = '))\n",
        "  p = (s1 + s2 + s3) / 2\n",
        "  s = math.sqrt((p * (p - s1) * (p - s2) * (p - s3)))\n",
        "  print(f'Площадь треугольника = {s :.2f}')\n",
        "elif figure == 'Прямоугольник':\n",
        "  t1 = float(input('Введите длину стороны А = '))\n",
        "  t2 = float(input('Введите длину стороны B = '))\n",
        "  s = t1 * t2\n",
        "  print(f'Площадь прямоугольника = {s :.2f}')"
      ],
      "metadata": {
        "id": "gnxwidOaVpZU"
      },
      "execution_count": null,
      "outputs": []
    }
  ]
}