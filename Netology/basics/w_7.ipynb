{
  "nbformat": 4,
  "nbformat_minor": 0,
  "metadata": {
    "colab": {
      "provenance": [],
      "authorship_tag": "ABX9TyON/5vtfQgNAmmHaRL0rnfc",
      "include_colab_link": true
    },
    "kernelspec": {
      "name": "python3",
      "display_name": "Python 3"
    },
    "language_info": {
      "name": "python"
    }
  },
  "cells": [
    {
      "cell_type": "markdown",
      "metadata": {
        "id": "view-in-github",
        "colab_type": "text"
      },
      "source": [
        "<a href=\"https://colab.research.google.com/github/kirillspiney/projects/blob/main/basics/w_7.ipynb\" target=\"_parent\"><img src=\"https://colab.research.google.com/assets/colab-badge.svg\" alt=\"Open In Colab\"/></a>"
      ]
    },
    {
      "cell_type": "markdown",
      "source": [
        "Переведите содержимое файла purchase_log.txt в словарь purchases вида:\n",
        "{‘1840e0b9d4’: ‘Продукты’, …}"
      ],
      "metadata": {
        "id": "WcU6fOT6emr6"
      }
    },
    {
      "cell_type": "code",
      "source": [
        "import json\n",
        "\n",
        "purchases = {}\n",
        "\n",
        "with open('/content/purchase_log.txt', 'r', encoding='utf-8') as f:\n",
        "    next(f)\n",
        "    for line in f:\n",
        "        data = json.loads(line.strip())\n",
        "        purchases[data['user_id']] = data['category']"
      ],
      "metadata": {
        "id": "vR6X_EDgewIB"
      },
      "execution_count": null,
      "outputs": []
    },
    {
      "cell_type": "markdown",
      "source": [
        "Для каждого user_id в файле visit_log.csv определите третий столбец с категорией покупки, если покупка была, сам файл visit_log.csv изменять не надо. Запишите в файл funnel.csv визиты из файла visit_log.csv, в которых были покупки с указанием категории.\n",
        "Учтите условия на данные:\n",
        "содержимое purchase_log.txt помещается в оперативную память компьютера;\n",
        "содержимое visit_log.csv — нет; используйте только построчную обработку этого файла."
      ],
      "metadata": {
        "id": "THYI3HlFfaF5"
      }
    },
    {
      "cell_type": "code",
      "source": [
        "import csv\n",
        "\n",
        "with open('/content/visit_log.csv', 'r', encoding='utf-8') as f_in, open('/content/funnel.csv', 'w', encoding='utf-8', newline='') as f_out:\n",
        "    reader = csv.reader(f_in)\n",
        "    writer = csv.writer(f_out)\n",
        "\n",
        "    headers = next(reader)\n",
        "    headers.append('category')\n",
        "    writer.writerow(headers)\n",
        "\n",
        "    for row in reader:\n",
        "        if row[0] in purchases:\n",
        "            row.append(purchases[row[0]])\n",
        "            writer.writerow(row)"
      ],
      "metadata": {
        "id": "RQL68TzCfcbi"
      },
      "execution_count": null,
      "outputs": []
    },
    {
      "cell_type": "code",
      "source": [
        "with open('/content/funnel.csv', 'r') as csvfile:\n",
        "    csvreader = csv.reader(csvfile)\n",
        "    \n",
        "    for i in range(5):\n",
        "        row = next(csvreader)\n",
        "        print(row)"
      ],
      "metadata": {
        "colab": {
          "base_uri": "https://localhost:8080/"
        },
        "id": "ee_RqVsZfsVO",
        "outputId": "3be4b091-fe1e-421b-82d7-4f1a385ccd77"
      },
      "execution_count": null,
      "outputs": [
        {
          "output_type": "stream",
          "name": "stdout",
          "text": [
            "['user_id', 'source', 'category']\n",
            "['1840e0b9d4', 'other', 'Продукты']\n",
            "['4e4f90fcfb', 'context', 'Электроника']\n",
            "['afea8d72fc', 'other', 'Электроника']\n",
            "['2824221f38', 'email', 'Продукты']\n"
          ]
        }
      ]
    }
  ]
}