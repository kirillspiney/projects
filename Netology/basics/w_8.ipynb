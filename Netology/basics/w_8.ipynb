{
  "cells": [
    {
      "cell_type": "markdown",
      "metadata": {
        "id": "view-in-github",
        "colab_type": "text"
      },
      "source": [
        "<a href=\"https://colab.research.google.com/github/kirillspiney/projects/blob/main/basics/w_8.ipynb\" target=\"_parent\"><img src=\"https://colab.research.google.com/assets/colab-badge.svg\" alt=\"Open In Colab\"/></a>"
      ]
    },
    {
      "cell_type": "markdown",
      "metadata": {
        "id": "57QWNFNAMoQQ"
      },
      "source": [
        "#### Задача 1"
      ]
    },
    {
      "cell_type": "markdown",
      "metadata": {
        "id": "zFrdnNeIMoQR"
      },
      "source": [
        "Дан список:"
      ]
    },
    {
      "cell_type": "code",
      "execution_count": null,
      "metadata": {
        "id": "tzhXNTuYMoQR"
      },
      "outputs": [],
      "source": [
        "list_01 = [1, 1, 2, 3, 5, 8, 13, 21, 34, 55, 89, 144, 233, 377, 610, 14, 46, 273, 22, 99, 15, 1000]"
      ]
    },
    {
      "cell_type": "markdown",
      "metadata": {
        "id": "egil3poDMoQT"
      },
      "source": [
        "Напишите алгоритм, который выводит число, равное сумме элементов списка, которые больше 10, но меньше 100, и которые больше 200, но меньше 500."
      ]
    },
    {
      "cell_type": "code",
      "execution_count": null,
      "metadata": {
        "id": "hwlML4HcMoQT",
        "outputId": "1f19e78a-f204-4fd0-dfb8-7ab828ab5dc5"
      },
      "outputs": [
        {
          "data": {
            "text/plain": [
              "1291"
            ]
          },
          "execution_count": 7,
          "metadata": {},
          "output_type": "execute_result"
        }
      ],
      "source": [
        "sum(x for x in list_01 if 10 < x < 100 or 200 < x < 500)"
      ]
    },
    {
      "cell_type": "markdown",
      "metadata": {
        "id": "_s_LVSC3MoQU"
      },
      "source": [
        "#### Задача 2"
      ]
    },
    {
      "cell_type": "markdown",
      "metadata": {
        "id": "35O30HWMMoQV"
      },
      "source": [
        "Дана строка:"
      ]
    },
    {
      "cell_type": "code",
      "execution_count": null,
      "metadata": {
        "id": "1vuE-14LMoQV"
      },
      "outputs": [],
      "source": [
        "some_string = \"History is always written by the winners. When two cultures clash, the loser is obliterated, and the winner writes the history books - books which glorify their own cause and disparage the conquered foe. As Napoleon once said, 'What is history, but a fable agreed upon?'\""
      ]
    },
    {
      "cell_type": "markdown",
      "metadata": {
        "id": "zhVIPi1eMoQW"
      },
      "source": [
        "Напишите функцию, которая будет принимать в качестве аргумента букву и выводить все слова из строки, начинающиеся на эту букву (например, “w”)."
      ]
    },
    {
      "cell_type": "code",
      "execution_count": null,
      "metadata": {
        "id": "4wrt8wOHMoQW"
      },
      "outputs": [],
      "source": [
        "import re"
      ]
    },
    {
      "cell_type": "code",
      "execution_count": null,
      "metadata": {
        "id": "o8aRYOjyMoQX"
      },
      "outputs": [],
      "source": [
        "def print_words (letter):\n",
        "    pattern = fr'\\b{letter}\\w*'\n",
        "    list_words = re.findall(pattern, some_string, re.I)\n",
        "    print(list_words)"
      ]
    },
    {
      "cell_type": "code",
      "execution_count": null,
      "metadata": {
        "id": "hvTBSfP3MoQX",
        "outputId": "b67b5bc6-88ec-413d-eb72-57042499e9df"
      },
      "outputs": [
        {
          "name": "stdout",
          "output_type": "stream",
          "text": [
            "['written', 'winners', 'When', 'winner', 'writes', 'which', 'What']\n"
          ]
        }
      ],
      "source": [
        "print_words('W')"
      ]
    },
    {
      "cell_type": "code",
      "execution_count": null,
      "metadata": {
        "id": "aPsEphKFMoQY"
      },
      "outputs": [],
      "source": []
    },
    {
      "cell_type": "markdown",
      "metadata": {
        "id": "k5OlQ9icMoQY"
      },
      "source": [
        "#### Задача 3"
      ]
    },
    {
      "cell_type": "markdown",
      "metadata": {
        "id": "-Fcx7AVhMoQY"
      },
      "source": [
        "Напишите функцию, которая генерирует случайную последовательность из 6 цифр, причем в этой последовательности должна быть как минимум одна цифра 3. Позиция 3 определяться случайным образом. Например: \"456379\" или \"033456\"."
      ]
    },
    {
      "cell_type": "code",
      "execution_count": null,
      "metadata": {
        "id": "Zm5dsS8gMoQZ"
      },
      "outputs": [],
      "source": [
        "import random"
      ]
    },
    {
      "cell_type": "code",
      "execution_count": null,
      "metadata": {
        "id": "Hq29tIpaMoQZ"
      },
      "outputs": [],
      "source": [
        "def generate_numbers():\n",
        "    number = ''\n",
        "    while '3' not in number:\n",
        "        list_numbers = list()\n",
        "        for i in range(6):\n",
        "            num = random.randint(0,9)\n",
        "            list_numbers.append(str(num))\n",
        "        number = ''.join(list_numbers)\n",
        "    print(number)"
      ]
    },
    {
      "cell_type": "code",
      "execution_count": null,
      "metadata": {
        "id": "_yV0vfx5MoQa"
      },
      "outputs": [],
      "source": [
        "def generate_numbers_2():\n",
        "    number = ''\n",
        "    while '3' not in number:\n",
        "        number = ''.join([str(random.randint(0, 9)) for x in range(6)])\n",
        "    print(number)"
      ]
    },
    {
      "cell_type": "code",
      "execution_count": null,
      "metadata": {
        "id": "D2HfzWE1MoQa",
        "outputId": "dc2ccdfa-1d5d-4ec8-a86f-271226bb540e"
      },
      "outputs": [
        {
          "name": "stdout",
          "output_type": "stream",
          "text": [
            "782413\n"
          ]
        }
      ],
      "source": [
        "generate_numbers()"
      ]
    },
    {
      "cell_type": "code",
      "execution_count": null,
      "metadata": {
        "id": "taEIPfz9MoQa",
        "outputId": "e61045e3-8518-4a8c-b3ab-dc0f9694e3e5"
      },
      "outputs": [
        {
          "name": "stdout",
          "output_type": "stream",
          "text": [
            "395100\n"
          ]
        }
      ],
      "source": [
        "generate_numbers_2()"
      ]
    },
    {
      "cell_type": "markdown",
      "metadata": {
        "id": "P5kn-3KxMoQb"
      },
      "source": [
        "#### Задача 4"
      ]
    },
    {
      "cell_type": "markdown",
      "metadata": {
        "id": "IbLZGyz6MoQb"
      },
      "source": [
        "Данные студентов представлены в виде списка списков:"
      ]
    },
    {
      "cell_type": "code",
      "execution_count": null,
      "metadata": {
        "id": "zEGawcp7MoQb"
      },
      "outputs": [],
      "source": [
        "students = [\n",
        "[\"0001\", \"Антонов\", \"Антон\", \"Игоревич\", \"20.08.2009\",\"БСТ161\"],\n",
        "[\"1102\", \"Богов\", \"Артем\", \"Игоревич\", \"25.01.2010\",\"БСТ162\"],\n",
        "[\"0333\", \"Глаголева\", \"Анастасия\", \"Николаевна\", \"11.07.2009\", \"БСТ163\"],\n",
        "[\"4004\", \"Степанова\", \"Наталья\", \"Александровна\", \"13.02.2008\", \"БСТ161\"],\n",
        "[\"0045\", \"Боков\", \"Игорь\", \"Харитонович\", \"02.06.2009\", \"БСТ161\"],\n",
        "[\"0096\", \"Васильков\", \"Валентин\", \"Сергеевич\", \"20.03.2009\", \"БСТ164\"],\n",
        "[\"0607\", \"Сиропова\", \"Виолетта\", \"Эдуардовна\", \"28.05.2010\", \"БСТ162\"],\n",
        "[\"4014\", \"Потапов\", \"Дмитрий\", \"Станиславович\", \"14.02.2012\", \"БСТ161\"]\n",
        "    ]"
      ]
    },
    {
      "cell_type": "markdown",
      "metadata": {
        "id": "OV5k_l3HMoQc"
      },
      "source": [
        "1. Преобразуйте данные таким образом, чтобы они были представлены в виде словаря, в котором ключами являются номера студентов, а значениями — список из других данных о студентах."
      ]
    },
    {
      "cell_type": "code",
      "execution_count": null,
      "metadata": {
        "id": "1imz6DVTMoQc"
      },
      "outputs": [],
      "source": [
        "students_dict = dict()\n",
        "for i in students:\n",
        "    students_dict[i[0]] = i[1:]"
      ]
    },
    {
      "cell_type": "code",
      "execution_count": null,
      "metadata": {
        "id": "pXrfBXSwMoQc",
        "outputId": "631f7ab5-d4b9-435f-9ecb-e1bcfd3bf860"
      },
      "outputs": [
        {
          "data": {
            "text/plain": [
              "{'0001': ['Антонов', 'Антон', 'Игоревич', '20.08.2009', 'БСТ161'],\n",
              " '1102': ['Богов', 'Артем', 'Игоревич', '25.01.2010', 'БСТ162'],\n",
              " '0333': ['Глаголева', 'Анастасия', 'Николаевна', '11.07.2009', 'БСТ163'],\n",
              " '4004': ['Степанова', 'Наталья', 'Александровна', '13.02.2008', 'БСТ161'],\n",
              " '0045': ['Боков', 'Игорь', 'Харитонович', '02.06.2009', 'БСТ161'],\n",
              " '0096': ['Васильков', 'Валентин', 'Сергеевич', '20.03.2009', 'БСТ164'],\n",
              " '0607': ['Сиропова', 'Виолетта', 'Эдуардовна', '28.05.2010', 'БСТ162'],\n",
              " '4014': ['Потапов', 'Дмитрий', 'Станиславович', '14.02.2012', 'БСТ161']}"
            ]
          },
          "execution_count": 40,
          "metadata": {},
          "output_type": "execute_result"
        }
      ],
      "source": [
        "students_dict"
      ]
    },
    {
      "cell_type": "markdown",
      "metadata": {
        "id": "-sDvLAPGMoQd"
      },
      "source": [
        "2. Напишите функцию, которая принимает номер группы и выводит пронумерованный и упорядоченный по алфавиту список (фамилии, имена, отчества) всех студентов этой группы. Необходимо обращаться к словарю."
      ]
    },
    {
      "cell_type": "code",
      "execution_count": null,
      "metadata": {
        "id": "yHX2fry1MoQd"
      },
      "outputs": [],
      "source": [
        "def print_group_list(group):\n",
        "    group_list = list()\n",
        "    for x in students_dict.values():\n",
        "        if x[-1] == group:\n",
        "            group_list.append(f'{x[0]} {x[1]} {x[2]}')\n",
        "    for i, x in enumerate(sorted(group_list)):\n",
        "        print(i+1,x)"
      ]
    },
    {
      "cell_type": "code",
      "execution_count": null,
      "metadata": {
        "id": "zfTT6t6aMoQd",
        "outputId": "2e109e7f-8e1c-404d-ee87-7d3d94157c73"
      },
      "outputs": [
        {
          "name": "stdout",
          "output_type": "stream",
          "text": [
            "1 Антонов Антон Игоревич\n",
            "2 Боков Игорь Харитонович\n",
            "3 Потапов Дмитрий Станиславович\n",
            "4 Степанова Наталья Александровна\n"
          ]
        }
      ],
      "source": [
        "print_group_list('БСТ161')"
      ]
    },
    {
      "cell_type": "markdown",
      "metadata": {
        "id": "HfMF1vhtMoQe"
      },
      "source": [
        "#### Задача 5"
      ]
    },
    {
      "cell_type": "markdown",
      "metadata": {
        "id": "vKl9NkxhMoQe"
      },
      "source": [
        "Создайте класс Student, который создает объекты с данными о студентах (как в задаче 4). Класс должен иметь следующие методы: add_to_dict (добавляет объект в словарь из задачи 4), update_dict (обновляет запись о студенте в словаре из задачи 4), change_group (изменяет номер группы студента), change_id (изменяет номер студента) и print_date (выводит на экран данные студента)."
      ]
    },
    {
      "cell_type": "code",
      "execution_count": null,
      "metadata": {
        "id": "Lpp7W9jxMoQe"
      },
      "outputs": [],
      "source": [
        "class Student:\n",
        "    def __init__(self, s_id, last_name, first_name, patronomic_name, date, group):\n",
        "        self.id = s_id\n",
        "        self.last_name = last_name\n",
        "        self.first_name = first_name\n",
        "        self.patronomic_name = patronomic_name\n",
        "        self.date = date\n",
        "        self.group = group\n",
        "            \n",
        "    def add_to_dict(self):\n",
        "        if self.id in students_dict.keys():\n",
        "            print('Студент с таким номером уже существует')\n",
        "        else:\n",
        "            students_dict[self.id] = [self.last_name, self.first_name, self.patronomic_name, self.date, self.group]\n",
        "               \n",
        "    def update_dict(self):\n",
        "        students_dict[self.id] = [self.last_name, self.first_name, self.patronomic_name, self.date, self.group]\n",
        "        \n",
        "    def change_group(self, new_group):\n",
        "        self.group = new_group\n",
        "        \n",
        "    def change_id(self, new_id):\n",
        "        self.id = new_id\n",
        "        \n",
        "    def print_data(self):\n",
        "        print(f'{self.id} {self.last_name} {self.first_name} {self.patronomic_name} {self.date} {self.group}')\n",
        "        "
      ]
    },
    {
      "cell_type": "markdown",
      "metadata": {
        "id": "PrS7ayX0MoQf"
      },
      "source": [
        "1. Создайте объект класса, добавьте его в словарь. Обновленный словарь выведете на экран."
      ]
    },
    {
      "cell_type": "code",
      "execution_count": null,
      "metadata": {
        "id": "P_zBD5i5MoQf"
      },
      "outputs": [],
      "source": [
        "volkova = Student('0001', 'Волкова', 'Галина', 'Сергеевна', '18.12.2022', 'БСТ100')"
      ]
    },
    {
      "cell_type": "code",
      "execution_count": null,
      "metadata": {
        "id": "iu7VDEzXMoQf",
        "outputId": "07aa6f54-5ea5-487a-d25f-679b24390adb"
      },
      "outputs": [
        {
          "data": {
            "text/plain": [
              "{'0001': ['Антонов', 'Антон', 'Игоревич', '20.08.2009', 'БСТ161'],\n",
              " '1102': ['Богов', 'Артем', 'Игоревич', '25.01.2010', 'БСТ162'],\n",
              " '0333': ['Глаголева', 'Анастасия', 'Николаевна', '11.07.2009', 'БСТ163'],\n",
              " '4004': ['Степанова', 'Наталья', 'Александровна', '13.02.2008', 'БСТ161'],\n",
              " '0045': ['Боков', 'Игорь', 'Харитонович', '02.06.2009', 'БСТ161'],\n",
              " '0096': ['Васильков', 'Валентин', 'Сергеевич', '20.03.2009', 'БСТ164'],\n",
              " '0607': ['Сиропова', 'Виолетта', 'Эдуардовна', '28.05.2010', 'БСТ162'],\n",
              " '4014': ['Потапов', 'Дмитрий', 'Станиславович', '14.02.2012', 'БСТ161']}"
            ]
          },
          "execution_count": 50,
          "metadata": {},
          "output_type": "execute_result"
        }
      ],
      "source": [
        "students_dict"
      ]
    },
    {
      "cell_type": "code",
      "execution_count": null,
      "metadata": {
        "id": "SkkNyooKMoQg",
        "outputId": "5c3329f0-fc25-4bb5-cc1c-8af365666c31"
      },
      "outputs": [
        {
          "name": "stdout",
          "output_type": "stream",
          "text": [
            "0001 Волкова Галина Сергеевна 18.12.2022 БСТ100\n"
          ]
        }
      ],
      "source": [
        "volkova.print_data()"
      ]
    },
    {
      "cell_type": "code",
      "execution_count": null,
      "metadata": {
        "id": "XsNF54I3MoQg",
        "outputId": "d571a9cd-fc1f-4cd8-ce02-1866734af6dc"
      },
      "outputs": [
        {
          "name": "stdout",
          "output_type": "stream",
          "text": [
            "Студент с таким номером уже существует\n"
          ]
        }
      ],
      "source": [
        "volkova.add_to_dict()"
      ]
    },
    {
      "cell_type": "code",
      "execution_count": null,
      "metadata": {
        "id": "cOV2wlCIMoQh"
      },
      "outputs": [],
      "source": [
        "volkova.change_id('0002')"
      ]
    },
    {
      "cell_type": "code",
      "execution_count": null,
      "metadata": {
        "id": "CozyfRxlMoQh",
        "outputId": "19d992c6-3ce3-45e6-d434-996d5d9017e1"
      },
      "outputs": [
        {
          "name": "stdout",
          "output_type": "stream",
          "text": [
            "0002 Волкова Галина Сергеевна 18.12.2022 БСТ100\n"
          ]
        }
      ],
      "source": [
        "volkova.print_data()"
      ]
    },
    {
      "cell_type": "code",
      "execution_count": null,
      "metadata": {
        "id": "XxyQF3czMoQh",
        "outputId": "0c7069f0-f5f8-4fb6-c976-0ba1585b0eb9"
      },
      "outputs": [
        {
          "name": "stdout",
          "output_type": "stream",
          "text": [
            "Студент с таким номером уже существует\n"
          ]
        }
      ],
      "source": [
        "volkova.add_to_dict()"
      ]
    },
    {
      "cell_type": "code",
      "execution_count": null,
      "metadata": {
        "id": "v56inPw0MoQi",
        "outputId": "15a162dd-fd02-4b09-d380-82157b386db1"
      },
      "outputs": [
        {
          "data": {
            "text/plain": [
              "{'0001': ['Антонов', 'Антон', 'Игоревич', '20.08.2009', 'БСТ161'],\n",
              " '1102': ['Богов', 'Артем', 'Игоревич', '25.01.2010', 'БСТ162'],\n",
              " '0333': ['Глаголева', 'Анастасия', 'Николаевна', '11.07.2009', 'БСТ163'],\n",
              " '4004': ['Степанова', 'Наталья', 'Александровна', '13.02.2008', 'БСТ161'],\n",
              " '0045': ['Боков', 'Игорь', 'Харитонович', '02.06.2009', 'БСТ161'],\n",
              " '0096': ['Васильков', 'Валентин', 'Сергеевич', '20.03.2009', 'БСТ164'],\n",
              " '0607': ['Сиропова', 'Виолетта', 'Эдуардовна', '28.05.2010', 'БСТ162'],\n",
              " '4014': ['Потапов', 'Дмитрий', 'Станиславович', '14.02.2012', 'БСТ161'],\n",
              " '0002': ['Волкова', 'Галина', 'Сергеевна', '18.12.2022', 'БСТ100']}"
            ]
          },
          "execution_count": 59,
          "metadata": {},
          "output_type": "execute_result"
        }
      ],
      "source": [
        "students_dict"
      ]
    },
    {
      "cell_type": "markdown",
      "metadata": {
        "id": "VceFzM5YMoQi"
      },
      "source": [
        "2. Измените номер группы студентки Волковой на 'БСТ161' и выведите обновленный список группы."
      ]
    },
    {
      "cell_type": "code",
      "execution_count": null,
      "metadata": {
        "id": "hPdsLgpCMoQi"
      },
      "outputs": [],
      "source": [
        "volkova.change_group('БСТ161')"
      ]
    },
    {
      "cell_type": "code",
      "execution_count": null,
      "metadata": {
        "id": "BZyTRT_1MoQj",
        "outputId": "4eeff11b-da56-4a03-fb10-ec347ff73cee"
      },
      "outputs": [
        {
          "data": {
            "text/plain": [
              "{'0001': ['Антонов', 'Антон', 'Игоревич', '20.08.2009', 'БСТ161'],\n",
              " '1102': ['Богов', 'Артем', 'Игоревич', '25.01.2010', 'БСТ162'],\n",
              " '0333': ['Глаголева', 'Анастасия', 'Николаевна', '11.07.2009', 'БСТ163'],\n",
              " '4004': ['Степанова', 'Наталья', 'Александровна', '13.02.2008', 'БСТ161'],\n",
              " '0045': ['Боков', 'Игорь', 'Харитонович', '02.06.2009', 'БСТ161'],\n",
              " '0096': ['Васильков', 'Валентин', 'Сергеевич', '20.03.2009', 'БСТ164'],\n",
              " '0607': ['Сиропова', 'Виолетта', 'Эдуардовна', '28.05.2010', 'БСТ162'],\n",
              " '4014': ['Потапов', 'Дмитрий', 'Станиславович', '14.02.2012', 'БСТ161'],\n",
              " '0002': ['Волкова', 'Галина', 'Сергеевна', '18.12.2022', 'БСТ100']}"
            ]
          },
          "execution_count": 61,
          "metadata": {},
          "output_type": "execute_result"
        }
      ],
      "source": [
        "students_dict"
      ]
    },
    {
      "cell_type": "code",
      "execution_count": null,
      "metadata": {
        "id": "7LyzvGjyMoQj"
      },
      "outputs": [],
      "source": [
        "volkova.update_dict()"
      ]
    },
    {
      "cell_type": "code",
      "execution_count": null,
      "metadata": {
        "id": "wtyUyBhJMoQj",
        "outputId": "f0aaa5f5-8ee0-4b62-d185-cff314a86ec4"
      },
      "outputs": [
        {
          "data": {
            "text/plain": [
              "{'0001': ['Антонов', 'Антон', 'Игоревич', '20.08.2009', 'БСТ161'],\n",
              " '1102': ['Богов', 'Артем', 'Игоревич', '25.01.2010', 'БСТ162'],\n",
              " '0333': ['Глаголева', 'Анастасия', 'Николаевна', '11.07.2009', 'БСТ163'],\n",
              " '4004': ['Степанова', 'Наталья', 'Александровна', '13.02.2008', 'БСТ161'],\n",
              " '0045': ['Боков', 'Игорь', 'Харитонович', '02.06.2009', 'БСТ161'],\n",
              " '0096': ['Васильков', 'Валентин', 'Сергеевич', '20.03.2009', 'БСТ164'],\n",
              " '0607': ['Сиропова', 'Виолетта', 'Эдуардовна', '28.05.2010', 'БСТ162'],\n",
              " '4014': ['Потапов', 'Дмитрий', 'Станиславович', '14.02.2012', 'БСТ161'],\n",
              " '0002': ['Волкова', 'Галина', 'Сергеевна', '18.12.2022', 'БСТ161']}"
            ]
          },
          "execution_count": 63,
          "metadata": {},
          "output_type": "execute_result"
        }
      ],
      "source": [
        "students_dict"
      ]
    },
    {
      "cell_type": "markdown",
      "metadata": {
        "id": "EgUYfzN3MoQj"
      },
      "source": [
        "#### Задача 6"
      ]
    },
    {
      "cell_type": "markdown",
      "metadata": {
        "id": "rFP6s8yEMoQj"
      },
      "source": [
        "Дана матрица matrix. Напишите код, который будет транспонировать её (то есть, делать из строк столбцы) в maytix_t:\n",
        "\n",
        "matrix_t = [\n",
        "    [0, 6, 3, 4, 5],\n",
        "    [1, 2, 3, 6, 7],\n",
        "    [2, 2, 3, 7, 3],\n",
        "    [4, 1, 3, 1, 4],\n",
        "    [8, 9, 3, 2, 0]\n",
        "]"
      ]
    },
    {
      "cell_type": "code",
      "execution_count": null,
      "metadata": {
        "id": "81jL9rQgMoQk"
      },
      "outputs": [],
      "source": [
        "matrix = [ \n",
        "    [0,1,2,4,8], \n",
        "    [6,2,2,1,9], \n",
        "    [3,3,3,3,3], \n",
        "    [4,6,7,1,2], \n",
        "    [5,7,3,4,0] \n",
        "]"
      ]
    },
    {
      "cell_type": "code",
      "execution_count": null,
      "metadata": {
        "id": "Q0yEt_g7MoQk"
      },
      "outputs": [],
      "source": [
        "matrix_t = [list(x) for x in zip(*matrix)]"
      ]
    },
    {
      "cell_type": "raw",
      "metadata": {
        "id": "2LO2edIxMoQk"
      },
      "source": []
    },
    {
      "cell_type": "code",
      "execution_count": null,
      "metadata": {
        "id": "On45C2dKMoQk",
        "outputId": "421f2a8e-a244-4246-ec59-cbc15e2dbd5e"
      },
      "outputs": [
        {
          "data": {
            "text/plain": [
              "[[0, 6, 3, 4, 5],\n",
              " [1, 2, 3, 6, 7],\n",
              " [2, 2, 3, 7, 3],\n",
              " [4, 1, 3, 1, 4],\n",
              " [8, 9, 3, 2, 0]]"
            ]
          },
          "execution_count": 67,
          "metadata": {},
          "output_type": "execute_result"
        }
      ],
      "source": [
        "matrix_t"
      ]
    },
    {
      "cell_type": "code",
      "execution_count": null,
      "metadata": {
        "id": "Au91fFuJMoQk"
      },
      "outputs": [],
      "source": []
    }
  ],
  "metadata": {
    "kernelspec": {
      "display_name": "Python 3",
      "language": "python",
      "name": "python3"
    },
    "language_info": {
      "codemirror_mode": {
        "name": "ipython",
        "version": 3
      },
      "file_extension": ".py",
      "mimetype": "text/x-python",
      "name": "python",
      "nbconvert_exporter": "python",
      "pygments_lexer": "ipython3",
      "version": "3.9.0"
    },
    "colab": {
      "provenance": [],
      "include_colab_link": true
    }
  },
  "nbformat": 4,
  "nbformat_minor": 0
}